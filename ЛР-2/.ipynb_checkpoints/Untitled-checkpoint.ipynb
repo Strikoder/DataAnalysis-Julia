{
 "cells": [
  {
   "cell_type": "code",
   "execution_count": 5,
   "id": "79ecea13",
   "metadata": {},
   "outputs": [
    {
     "data": {
      "text/plain": [
       "(a = 2, b = 3)"
      ]
     },
     "execution_count": 5,
     "metadata": {},
     "output_type": "execute_result"
    }
   ],
   "source": [
    "()\n",
    "favoritelang=(\"python\",\"Julia\", \"R lang\")\n",
    "\n",
    "x1=(1,2,3)\n",
    "x2=(1,2.0,\"tmp\")\n",
    "x3=(a=2,b=1+2)"
   ]
  },
  {
   "cell_type": "code",
   "execution_count": 6,
   "id": "220b1dd0",
   "metadata": {},
   "outputs": [
    {
     "data": {
      "text/plain": [
       "(1, 2.0, \"tmp\")"
      ]
     },
     "execution_count": 6,
     "metadata": {},
     "output_type": "execute_result"
    }
   ],
   "source": [
    "x2[1],x2[2],x2[3]"
   ]
  },
  {
   "cell_type": "code",
   "execution_count": 7,
   "id": "0dccc0e9",
   "metadata": {},
   "outputs": [
    {
     "data": {
      "text/plain": [
       "5"
      ]
     },
     "execution_count": 7,
     "metadata": {},
     "output_type": "execute_result"
    }
   ],
   "source": [
    "c=x1[2]+x1[3]"
   ]
  },
  {
   "cell_type": "code",
   "execution_count": 8,
   "id": "a8e9d6c5",
   "metadata": {},
   "outputs": [
    {
     "data": {
      "text/plain": [
       "(2, 3, 3)"
      ]
     },
     "execution_count": 8,
     "metadata": {},
     "output_type": "execute_result"
    }
   ],
   "source": [
    "x3.a,x3.b,x3[2]"
   ]
  },
  {
   "cell_type": "code",
   "execution_count": 9,
   "id": "6b1bcee9",
   "metadata": {},
   "outputs": [
    {
     "data": {
      "text/plain": [
       "(true, false)"
      ]
     },
     "execution_count": 9,
     "metadata": {},
     "output_type": "execute_result"
    }
   ],
   "source": [
    "in(\"tmp\", x2), 0 in x2"
   ]
  },
  {
   "cell_type": "code",
   "execution_count": 10,
   "id": "e54617e4",
   "metadata": {},
   "outputs": [
    {
     "data": {
      "text/plain": [
       "3"
      ]
     },
     "execution_count": 10,
     "metadata": {},
     "output_type": "execute_result"
    }
   ],
   "source": [
    "length(x2)"
   ]
  },
  {
   "cell_type": "code",
   "execution_count": 12,
   "id": "99e9f8ff",
   "metadata": {},
   "outputs": [
    {
     "data": {
      "text/plain": [
       "KeySet for a Dict{String, Any} with 2 entries. Keys:\n",
       "  \"Бухгалтерия\"\n",
       "  \"Иванов И.И.\""
      ]
     },
     "execution_count": 12,
     "metadata": {},
     "output_type": "execute_result"
    }
   ],
   "source": [
    "phonebook = Dict(\"Иванов И.И.\" => (\"867-5309\",\"333-5544\"),\"Бухгалтерия\" =>\"555-2368\")\n",
    "keys(phonebook)"
   ]
  },
  {
   "cell_type": "code",
   "execution_count": 13,
   "id": "b7f3e423",
   "metadata": {},
   "outputs": [
    {
     "data": {
      "text/plain": [
       "ValueIterator for a Dict{String, Any} with 2 entries. Values:\n",
       "  \"555-2368\"\n",
       "  (\"867-5309\", \"333-5544\")"
      ]
     },
     "execution_count": 13,
     "metadata": {},
     "output_type": "execute_result"
    }
   ],
   "source": [
    "values(phonebook)"
   ]
  },
  {
   "cell_type": "code",
   "execution_count": 14,
   "id": "2aacb30b",
   "metadata": {},
   "outputs": [
    {
     "data": {
      "text/plain": [
       "Dict{String, Any} with 2 entries:\n",
       "  \"Бухгалтерия\" => \"555-2368\"\n",
       "  \"Иванов И.И.\" => (\"867-5309\", \"333-5544\")"
      ]
     },
     "execution_count": 14,
     "metadata": {},
     "output_type": "execute_result"
    }
   ],
   "source": [
    "pairs(phonebook)"
   ]
  },
  {
   "cell_type": "code",
   "execution_count": 15,
   "id": "681edc22",
   "metadata": {},
   "outputs": [
    {
     "data": {
      "text/plain": [
       "true"
      ]
     },
     "execution_count": 15,
     "metadata": {},
     "output_type": "execute_result"
    }
   ],
   "source": [
    "haskey(phonebook,\"Иванов И.И.\")"
   ]
  },
  {
   "cell_type": "code",
   "execution_count": 16,
   "id": "996566a9",
   "metadata": {},
   "outputs": [
    {
     "data": {
      "text/plain": [
       "\"555-3344\""
      ]
     },
     "execution_count": 16,
     "metadata": {},
     "output_type": "execute_result"
    }
   ],
   "source": [
    "phonebook[\"Сидоров П.С.\"]=\"555-3344\""
   ]
  },
  {
   "cell_type": "code",
   "execution_count": 17,
   "id": "27396eb3",
   "metadata": {},
   "outputs": [
    {
     "data": {
      "text/plain": [
       "(\"867-5309\", \"333-5544\")"
      ]
     },
     "execution_count": 17,
     "metadata": {},
     "output_type": "execute_result"
    }
   ],
   "source": [
    "pop!(phonebook, \"Иванов И.И.\")"
   ]
  },
  {
   "cell_type": "code",
   "execution_count": 18,
   "id": "e2293d3a",
   "metadata": {},
   "outputs": [
    {
     "data": {
      "text/plain": [
       "(Dict{String, Real}(\"bar\" => 13.0, \"baz\" => 17, \"foo\" => 0.0), Dict{String, Real}(\"bar\" => 42.0, \"baz\" => 17, \"foo\" => 0.0))"
      ]
     },
     "execution_count": 18,
     "metadata": {},
     "output_type": "execute_result"
    }
   ],
   "source": [
    "a= Dict(\"foo\"=>0.0,\"bar\"=>42.0);\n",
    "b= Dict(\"baz\"=>17, \"bar\"=>13.0);\n",
    "merge(a,b),merge(b,a)"
   ]
  },
  {
   "cell_type": "code",
   "execution_count": 20,
   "id": "1f2bb87c",
   "metadata": {},
   "outputs": [
    {
     "data": {
      "text/plain": [
       "false"
      ]
     },
     "execution_count": 20,
     "metadata": {},
     "output_type": "execute_result"
    }
   ],
   "source": [
    "A=Set([1,3,4,5])\n",
    "B=Set(\"abrakadabra\")\n",
    "\n",
    "S1=Set([1,2])\n",
    "S2=Set([3,4])\n",
    "issetequal(S1,S2)"
   ]
  },
  {
   "cell_type": "code",
   "execution_count": 23,
   "id": "311bc6b0",
   "metadata": {},
   "outputs": [
    {
     "data": {
      "text/plain": [
       "true"
      ]
     },
     "execution_count": 23,
     "metadata": {},
     "output_type": "execute_result"
    }
   ],
   "source": [
    "S3=Set([1,2,2,3,1,2,3,2,1]);\n",
    "S4=Set([2,3,1])\n",
    "issetequal(S3,S4)"
   ]
  },
  {
   "cell_type": "code",
   "execution_count": 24,
   "id": "b7d345eb",
   "metadata": {},
   "outputs": [
    {
     "data": {
      "text/plain": [
       "Set{Int64} with 4 elements:\n",
       "  4\n",
       "  2\n",
       "  3\n",
       "  1"
      ]
     },
     "execution_count": 24,
     "metadata": {},
     "output_type": "execute_result"
    }
   ],
   "source": [
    "C=union(S1,S2)"
   ]
  },
  {
   "cell_type": "code",
   "execution_count": 25,
   "id": "d05face0",
   "metadata": {},
   "outputs": [
    {
     "data": {
      "text/plain": [
       "Set{Int64} with 2 elements:\n",
       "  2\n",
       "  1"
      ]
     },
     "execution_count": 25,
     "metadata": {},
     "output_type": "execute_result"
    }
   ],
   "source": [
    "D=intersect(S1,S3)"
   ]
  },
  {
   "cell_type": "code",
   "execution_count": 26,
   "id": "c0906d81",
   "metadata": {},
   "outputs": [
    {
     "data": {
      "text/plain": [
       "Set{Int64} with 1 element:\n",
       "  3"
      ]
     },
     "execution_count": 26,
     "metadata": {},
     "output_type": "execute_result"
    }
   ],
   "source": [
    "E=setdiff(S3,S1)"
   ]
  },
  {
   "cell_type": "code",
   "execution_count": 27,
   "id": "0e44e416",
   "metadata": {},
   "outputs": [
    {
     "data": {
      "text/plain": [
       "true"
      ]
     },
     "execution_count": 27,
     "metadata": {},
     "output_type": "execute_result"
    }
   ],
   "source": [
    "issubset(S1,S4)"
   ]
  },
  {
   "cell_type": "code",
   "execution_count": 28,
   "id": "64221347",
   "metadata": {},
   "outputs": [
    {
     "data": {
      "text/plain": [
       "Set{Int64} with 4 elements:\n",
       "  2\n",
       "  99\n",
       "  3\n",
       "  1"
      ]
     },
     "execution_count": 28,
     "metadata": {},
     "output_type": "execute_result"
    }
   ],
   "source": [
    "push!(S4,99)"
   ]
  },
  {
   "cell_type": "code",
   "execution_count": 30,
   "id": "1f2dcf12",
   "metadata": {},
   "outputs": [
    {
     "data": {
      "text/plain": [
       "2"
      ]
     },
     "execution_count": 30,
     "metadata": {},
     "output_type": "execute_result"
    }
   ],
   "source": [
    "pop!(S4)"
   ]
  },
  {
   "cell_type": "code",
   "execution_count": 34,
   "id": "d124d1d3",
   "metadata": {},
   "outputs": [
    {
     "data": {
      "text/plain": [
       "9-element Vector{Int64}:\n",
       " 1\n",
       " 2\n",
       " 3\n",
       " 4\n",
       " 5\n",
       " 6\n",
       " 7\n",
       " 8\n",
       " 9"
      ]
     },
     "execution_count": 34,
     "metadata": {},
     "output_type": "execute_result"
    }
   ],
   "source": [
    "empty_array_1=[]\n",
    "\n",
    "a=[1,2,3] #Вектор столбец\n",
    "b=[1 2 3] #Вектор строка\n",
    "A=[[1,2,3];[4,5,6];[7,8,9]]"
   ]
  },
  {
   "cell_type": "code",
   "execution_count": 35,
   "id": "1eb25d7a",
   "metadata": {},
   "outputs": [
    {
     "data": {
      "text/plain": [
       "3×3 Matrix{Int64}:\n",
       " 1  2  3\n",
       " 4  5  6\n",
       " 7  8  9"
      ]
     },
     "execution_count": 35,
     "metadata": {},
     "output_type": "execute_result"
    }
   ],
   "source": [
    "B=[[1 2 3];[4 5 6];[7 8 9]]"
   ]
  },
  {
   "cell_type": "code",
   "execution_count": 36,
   "id": "6da71acb",
   "metadata": {},
   "outputs": [
    {
     "data": {
      "text/plain": [
       "1×8 Matrix{Float64}:\n",
       " 0.194204  0.362973  0.695503  0.175578  …  0.19675  0.328533  0.948333"
      ]
     },
     "execution_count": 36,
     "metadata": {},
     "output_type": "execute_result"
    }
   ],
   "source": [
    "c=rand(1,8)"
   ]
  },
  {
   "cell_type": "code",
   "execution_count": 37,
   "id": "4c2dc05a",
   "metadata": {},
   "outputs": [
    {
     "data": {
      "text/plain": [
       "2×3 Matrix{Float64}:\n",
       " 0.32506   0.989055  0.622885\n",
       " 0.816279  0.175961  0.757636"
      ]
     },
     "execution_count": 37,
     "metadata": {},
     "output_type": "execute_result"
    }
   ],
   "source": [
    "c=rand(2,3)"
   ]
  },
  {
   "cell_type": "code",
   "execution_count": 39,
   "id": "dde6fef0",
   "metadata": {},
   "outputs": [
    {
     "data": {
      "text/plain": [
       "10-element Vector{Float64}:\n",
       " 1.0\n",
       " 1.4142135623730951\n",
       " 1.7320508075688772\n",
       " 2.0\n",
       " 2.23606797749979\n",
       " 2.449489742783178\n",
       " 2.6457513110645907\n",
       " 2.8284271247461903\n",
       " 3.0\n",
       " 3.1622776601683795"
      ]
     },
     "execution_count": 39,
     "metadata": {},
     "output_type": "execute_result"
    }
   ],
   "source": [
    "roots=[sqrt(i) for i in 1:10]"
   ]
  },
  {
   "cell_type": "code",
   "execution_count": 40,
   "id": "74ba7f5f",
   "metadata": {},
   "outputs": [
    {
     "data": {
      "text/plain": [
       "5-element Vector{Int64}:\n",
       "   3\n",
       "  27\n",
       "  75\n",
       " 147\n",
       " 243"
      ]
     },
     "execution_count": 40,
     "metadata": {},
     "output_type": "execute_result"
    }
   ],
   "source": [
    "ar_1=[3*i^2 for i in 1:2:9]"
   ]
  },
  {
   "cell_type": "code",
   "execution_count": 42,
   "id": "4574cb2f",
   "metadata": {},
   "outputs": [
    {
     "data": {
      "text/plain": [
       "4-element Vector{Int64}:\n",
       "  1\n",
       "  9\n",
       " 49\n",
       " 81"
      ]
     },
     "execution_count": 42,
     "metadata": {},
     "output_type": "execute_result"
    }
   ],
   "source": [
    "ar_2=[i^2 for i=1:10 if(i^2%5!=0&&i^2%4!=0)]"
   ]
  },
  {
   "cell_type": "code",
   "execution_count": 43,
   "id": "85e0a391",
   "metadata": {},
   "outputs": [
    {
     "data": {
      "text/plain": [
       "5-element Vector{Float64}:\n",
       " 1.0\n",
       " 1.0\n",
       " 1.0\n",
       " 1.0\n",
       " 1.0"
      ]
     },
     "execution_count": 43,
     "metadata": {},
     "output_type": "execute_result"
    }
   ],
   "source": [
    "ones(5)"
   ]
  },
  {
   "cell_type": "code",
   "execution_count": 44,
   "id": "ee345a34",
   "metadata": {},
   "outputs": [
    {
     "data": {
      "text/plain": [
       "2×3 Matrix{Float64}:\n",
       " 1.0  1.0  1.0\n",
       " 1.0  1.0  1.0"
      ]
     },
     "execution_count": 44,
     "metadata": {},
     "output_type": "execute_result"
    }
   ],
   "source": [
    "ones(2,3)"
   ]
  },
  {
   "cell_type": "code",
   "execution_count": 45,
   "id": "a1db02b4",
   "metadata": {},
   "outputs": [
    {
     "data": {
      "text/plain": [
       "4-element Vector{Float64}:\n",
       " 0.0\n",
       " 0.0\n",
       " 0.0\n",
       " 0.0"
      ]
     },
     "execution_count": 45,
     "metadata": {},
     "output_type": "execute_result"
    }
   ],
   "source": [
    "zeros(4)"
   ]
  },
  {
   "cell_type": "code",
   "execution_count": 46,
   "id": "4eaaeb47",
   "metadata": {},
   "outputs": [
    {
     "data": {
      "text/plain": [
       "3×2 Matrix{Float64}:\n",
       " 3.5  3.5\n",
       " 3.5  3.5\n",
       " 3.5  3.5"
      ]
     },
     "execution_count": 46,
     "metadata": {},
     "output_type": "execute_result"
    }
   ],
   "source": [
    "fill(3.5,(3,2))"
   ]
  },
  {
   "cell_type": "code",
   "execution_count": 47,
   "id": "d7626817",
   "metadata": {},
   "outputs": [
    {
     "data": {
      "text/plain": [
       "6×3 Matrix{Int64}:\n",
       " 1  1  1\n",
       " 2  2  2\n",
       " 1  1  1\n",
       " 2  2  2\n",
       " 1  1  1\n",
       " 2  2  2"
      ]
     },
     "execution_count": 47,
     "metadata": {},
     "output_type": "execute_result"
    }
   ],
   "source": [
    "repeat([1,2],3,3)\n",
    "repeat([1,2],3,3)"
   ]
  },
  {
   "cell_type": "code",
   "execution_count": 48,
   "id": "694cc5b8",
   "metadata": {},
   "outputs": [
    {
     "data": {
      "text/plain": [
       "2×6 Matrix{Int64}:\n",
       " 1  3  5  7   9  11\n",
       " 2  4  6  8  10  12"
      ]
     },
     "execution_count": 48,
     "metadata": {},
     "output_type": "execute_result"
    }
   ],
   "source": [
    "a=collect(1:12)\n",
    "b=reshape(a,(2,6))"
   ]
  },
  {
   "cell_type": "code",
   "execution_count": 49,
   "id": "aa713fee",
   "metadata": {},
   "outputs": [
    {
     "data": {
      "text/plain": [
       "6×2 adjoint(::Matrix{Int64}) with eltype Int64:\n",
       "  1   2\n",
       "  3   4\n",
       "  5   6\n",
       "  7   8\n",
       "  9  10\n",
       " 11  12"
      ]
     },
     "execution_count": 49,
     "metadata": {},
     "output_type": "execute_result"
    }
   ],
   "source": [
    "b'"
   ]
  },
  {
   "cell_type": "code",
   "execution_count": 50,
   "id": "1b70667c",
   "metadata": {},
   "outputs": [
    {
     "data": {
      "text/plain": [
       "6×2 transpose(::Matrix{Int64}) with eltype Int64:\n",
       "  1   2\n",
       "  3   4\n",
       "  5   6\n",
       "  7   8\n",
       "  9  10\n",
       " 11  12"
      ]
     },
     "execution_count": 50,
     "metadata": {},
     "output_type": "execute_result"
    }
   ],
   "source": [
    "c=transpose(b)"
   ]
  },
  {
   "cell_type": "code",
   "execution_count": 51,
   "id": "cb0a2554",
   "metadata": {},
   "outputs": [
    {
     "data": {
      "text/plain": [
       "10×5 Matrix{Int64}:\n",
       " 15  12  15  17  20\n",
       " 16  17  11  13  14\n",
       " 12  17  11  17  13\n",
       " 15  12  17  11  11\n",
       " 10  18  15  10  20\n",
       " 10  14  20  19  11\n",
       " 14  20  15  17  14\n",
       " 12  11  19  15  14\n",
       " 18  11  15  17  15\n",
       " 12  11  13  11  14"
      ]
     },
     "execution_count": 51,
     "metadata": {},
     "output_type": "execute_result"
    }
   ],
   "source": [
    "ar=rand(10:20,10,5)"
   ]
  },
  {
   "cell_type": "code",
   "execution_count": 52,
   "id": "98621219",
   "metadata": {},
   "outputs": [
    {
     "data": {
      "text/plain": [
       "10-element Vector{Int64}:\n",
       " 12\n",
       " 17\n",
       " 17\n",
       " 12\n",
       " 18\n",
       " 14\n",
       " 20\n",
       " 11\n",
       " 11\n",
       " 11"
      ]
     },
     "execution_count": 52,
     "metadata": {},
     "output_type": "execute_result"
    }
   ],
   "source": [
    "ar[:,2]"
   ]
  },
  {
   "cell_type": "code",
   "execution_count": 53,
   "id": "742a6508",
   "metadata": {},
   "outputs": [
    {
     "data": {
      "text/plain": [
       "10×2 Matrix{Int64}:\n",
       " 12  20\n",
       " 17  14\n",
       " 17  13\n",
       " 12  11\n",
       " 18  20\n",
       " 14  11\n",
       " 20  14\n",
       " 11  14\n",
       " 11  15\n",
       " 11  14"
      ]
     },
     "execution_count": 53,
     "metadata": {},
     "output_type": "execute_result"
    }
   ],
   "source": [
    "ar[:,[2,5]]"
   ]
  },
  {
   "cell_type": "code",
   "execution_count": 54,
   "id": "90f0a0e1",
   "metadata": {},
   "outputs": [
    {
     "data": {
      "text/plain": [
       "10×3 Matrix{Int64}:\n",
       " 12  15  17\n",
       " 17  11  13\n",
       " 17  11  17\n",
       " 12  17  11\n",
       " 18  15  10\n",
       " 14  20  19\n",
       " 20  15  17\n",
       " 11  19  15\n",
       " 11  15  17\n",
       " 11  13  11"
      ]
     },
     "execution_count": 54,
     "metadata": {},
     "output_type": "execute_result"
    }
   ],
   "source": [
    "ar[:,2:4]"
   ]
  },
  {
   "cell_type": "code",
   "execution_count": 55,
   "id": "84f9875a",
   "metadata": {},
   "outputs": [
    {
     "data": {
      "text/plain": [
       "3×2 Matrix{Int64}:\n",
       " 16  14\n",
       " 15  11\n",
       " 10  11"
      ]
     },
     "execution_count": 55,
     "metadata": {},
     "output_type": "execute_result"
    }
   ],
   "source": [
    "ar[[2,4,6],[1,5]]"
   ]
  },
  {
   "cell_type": "code",
   "execution_count": 56,
   "id": "de8d7e62",
   "metadata": {},
   "outputs": [
    {
     "data": {
      "text/plain": [
       "3-element Vector{Int64}:\n",
       " 15\n",
       " 17\n",
       " 20"
      ]
     },
     "execution_count": 56,
     "metadata": {},
     "output_type": "execute_result"
    }
   ],
   "source": [
    "ar[1,3:end]"
   ]
  },
  {
   "cell_type": "code",
   "execution_count": 57,
   "id": "27fe54aa",
   "metadata": {},
   "outputs": [
    {
     "data": {
      "text/plain": [
       "10×5 Matrix{Int64}:\n",
       " 10  11  11  10  11\n",
       " 10  11  11  11  11\n",
       " 12  11  13  11  13\n",
       " 12  12  15  13  14\n",
       " 12  12  15  15  14\n",
       " 14  14  15  17  14\n",
       " 15  17  15  17  14\n",
       " 15  17  17  17  15\n",
       " 16  18  19  17  20\n",
       " 18  20  20  19  20"
      ]
     },
     "execution_count": 57,
     "metadata": {},
     "output_type": "execute_result"
    }
   ],
   "source": [
    "sort(ar, dims=1)"
   ]
  },
  {
   "cell_type": "code",
   "execution_count": 58,
   "id": "442318f5",
   "metadata": {},
   "outputs": [
    {
     "data": {
      "text/plain": [
       "10×5 Matrix{Int64}:\n",
       " 12  15  15  17  20\n",
       " 11  13  14  16  17\n",
       " 11  12  13  17  17\n",
       " 11  11  12  15  17\n",
       " 10  10  15  18  20\n",
       " 10  11  14  19  20\n",
       " 14  14  15  17  20\n",
       " 11  12  14  15  19\n",
       " 11  15  15  17  18\n",
       " 11  11  12  13  14"
      ]
     },
     "execution_count": 58,
     "metadata": {},
     "output_type": "execute_result"
    }
   ],
   "source": [
    "sort(ar,dims=2)"
   ]
  },
  {
   "cell_type": "code",
   "execution_count": 59,
   "id": "2814db21",
   "metadata": {},
   "outputs": [
    {
     "data": {
      "text/plain": [
       "10×5 BitMatrix:\n",
       " 1  0  1  1  1\n",
       " 1  1  0  0  0\n",
       " 0  1  0  1  0\n",
       " 1  0  1  0  0\n",
       " 0  1  1  0  1\n",
       " 0  0  1  1  0\n",
       " 0  1  1  1  0\n",
       " 0  0  1  1  0\n",
       " 1  0  1  1  1\n",
       " 0  0  0  0  0"
      ]
     },
     "execution_count": 59,
     "metadata": {},
     "output_type": "execute_result"
    }
   ],
   "source": [
    "ar.>14"
   ]
  },
  {
   "cell_type": "code",
   "execution_count": 60,
   "id": "fd2586f5",
   "metadata": {},
   "outputs": [
    {
     "data": {
      "text/plain": [
       "24-element Vector{CartesianIndex{2}}:\n",
       " CartesianIndex(1, 1)\n",
       " CartesianIndex(2, 1)\n",
       " CartesianIndex(4, 1)\n",
       " CartesianIndex(9, 1)\n",
       " CartesianIndex(2, 2)\n",
       " CartesianIndex(3, 2)\n",
       " CartesianIndex(5, 2)\n",
       " CartesianIndex(7, 2)\n",
       " CartesianIndex(1, 3)\n",
       " CartesianIndex(4, 3)\n",
       " ⋮\n",
       " CartesianIndex(9, 3)\n",
       " CartesianIndex(1, 4)\n",
       " CartesianIndex(3, 4)\n",
       " CartesianIndex(6, 4)\n",
       " CartesianIndex(7, 4)\n",
       " CartesianIndex(8, 4)\n",
       " CartesianIndex(9, 4)\n",
       " CartesianIndex(1, 5)\n",
       " CartesianIndex(5, 5)\n",
       " CartesianIndex(9, 5)"
      ]
     },
     "execution_count": 60,
     "metadata": {},
     "output_type": "execute_result"
    }
   ],
   "source": [
    "findall(ar.>14)"
   ]
  },
  {
   "cell_type": "code",
   "execution_count": 62,
   "id": "3cf30a4e",
   "metadata": {},
   "outputs": [
    {
     "data": {
      "text/plain": [
       "Set{Int64} with 5 elements:\n",
       "  0\n",
       "  4\n",
       "  7\n",
       "  9\n",
       "  1"
      ]
     },
     "execution_count": 62,
     "metadata": {},
     "output_type": "execute_result"
    }
   ],
   "source": [
    "A=Set([0,3,4,9])\n",
    "B=Set([1,3,4,7])\n",
    "C=Set([0,1,2,4,7,8,9])\n",
    "P=intersect(A,B)\n",
    "P=union(P,A)\n",
    "P=intersect(P,B)\n",
    "P=union(P,A)\n",
    "P=intersect(P,C)\n",
    "P=union(P,B)\n",
    "P=intersect(P,C)\n",
    "P"
   ]
  },
  {
   "cell_type": "code",
   "execution_count": 63,
   "id": "71207f6e",
   "metadata": {},
   "outputs": [
    {
     "data": {
      "text/plain": [
       "Set{Int64} with 4 elements:\n",
       "  0\n",
       "  4\n",
       "  9\n",
       "  3"
      ]
     },
     "execution_count": 63,
     "metadata": {},
     "output_type": "execute_result"
    }
   ],
   "source": [
    "push!(A,4)"
   ]
  },
  {
   "cell_type": "code",
   "execution_count": 64,
   "id": "0aec89df",
   "metadata": {},
   "outputs": [
    {
     "data": {
      "text/plain": [
       "0"
      ]
     },
     "execution_count": 64,
     "metadata": {},
     "output_type": "execute_result"
    }
   ],
   "source": [
    "pop!(A)"
   ]
  },
  {
   "cell_type": "code",
   "execution_count": 65,
   "id": "4758720d",
   "metadata": {},
   "outputs": [
    {
     "data": {
      "text/plain": [
       "Set{Int64} with 1 element:\n",
       "  3"
      ]
     },
     "execution_count": 65,
     "metadata": {},
     "output_type": "execute_result"
    }
   ],
   "source": [
    "P1=setdiff(A,P)"
   ]
  },
  {
   "cell_type": "code",
   "execution_count": 66,
   "id": "a1eaabe4",
   "metadata": {},
   "outputs": [
    {
     "data": {
      "text/plain": [
       "9-element Vector{Float64}:\n",
       " 0.0\n",
       " 0.0\n",
       " 0.0\n",
       " 0.0\n",
       " 0.0\n",
       " 0.0\n",
       " 0.0\n",
       " 0.0\n",
       " 0.0"
      ]
     },
     "execution_count": 66,
     "metadata": {},
     "output_type": "execute_result"
    }
   ],
   "source": [
    "a=fill(0.0,9)"
   ]
  },
  {
   "cell_type": "code",
   "execution_count": 67,
   "id": "9627fee7",
   "metadata": {},
   "outputs": [
    {
     "data": {
      "text/plain": [
       "4×6 Matrix{Float64}:\n",
       " 0.0364148  0.274346  0.544914  0.670133  0.434122   0.906561\n",
       " 0.330478   0.326893  0.855339  0.599666  0.266779   0.918607\n",
       " 0.0739754  0.107811  0.379759  0.425155  0.0679301  0.594084\n",
       " 0.333439   0.693183  0.187474  0.737073  0.392818   0.382271"
      ]
     },
     "execution_count": 67,
     "metadata": {},
     "output_type": "execute_result"
    }
   ],
   "source": [
    "a_ran=rand(4,6)"
   ]
  },
  {
   "cell_type": "code",
   "execution_count": 68,
   "id": "d0b89353",
   "metadata": {},
   "outputs": [
    {
     "data": {
      "text/plain": [
       "10-element Vector{Int64}:\n",
       "  1\n",
       "  2\n",
       "  3\n",
       "  4\n",
       "  5\n",
       "  6\n",
       "  7\n",
       "  8\n",
       "  9\n",
       " 10"
      ]
     },
     "execution_count": 68,
     "metadata": {},
     "output_type": "execute_result"
    }
   ],
   "source": [
    "a_col=collect(1:1:10)"
   ]
  },
  {
   "cell_type": "code",
   "execution_count": 69,
   "id": "233726d7",
   "metadata": {},
   "outputs": [
    {
     "data": {
      "text/plain": [
       "30-element Vector{Int64}:\n",
       "  1\n",
       "  2\n",
       "  3\n",
       "  4\n",
       "  5\n",
       "  6\n",
       "  7\n",
       "  8\n",
       "  9\n",
       " 10\n",
       "  ⋮\n",
       " 21\n",
       " 22\n",
       " 23\n",
       " 24\n",
       " 25\n",
       " 26\n",
       " 27\n",
       " 28\n",
       " 29\n",
       " 30"
      ]
     },
     "execution_count": 69,
     "metadata": {},
     "output_type": "execute_result"
    }
   ],
   "source": [
    "N = 30\n",
    "A1=[i for i in 1:N]"
   ]
  },
  {
   "cell_type": "code",
   "execution_count": 70,
   "id": "02b4fdc4",
   "metadata": {},
   "outputs": [
    {
     "data": {
      "text/plain": [
       "30-element Vector{Int64}:\n",
       " 30\n",
       " 29\n",
       " 28\n",
       " 27\n",
       " 26\n",
       " 25\n",
       " 24\n",
       " 23\n",
       " 22\n",
       " 21\n",
       "  ⋮\n",
       " 10\n",
       "  9\n",
       "  8\n",
       "  7\n",
       "  6\n",
       "  5\n",
       "  4\n",
       "  3\n",
       "  2\n",
       "  1"
      ]
     },
     "execution_count": 70,
     "metadata": {},
     "output_type": "execute_result"
    }
   ],
   "source": [
    "A2=[N-i for i in 0:N-1]"
   ]
  },
  {
   "cell_type": "code",
   "execution_count": 71,
   "id": "e7452ec0",
   "metadata": {},
   "outputs": [
    {
     "data": {
      "text/plain": [
       "60-element Vector{Int64}:\n",
       "  1\n",
       "  2\n",
       "  3\n",
       "  4\n",
       "  5\n",
       "  6\n",
       "  7\n",
       "  8\n",
       "  9\n",
       " 10\n",
       "  ⋮\n",
       " 10\n",
       "  9\n",
       "  8\n",
       "  7\n",
       "  6\n",
       "  5\n",
       "  4\n",
       "  3\n",
       "  2\n",
       "  1"
      ]
     },
     "execution_count": 71,
     "metadata": {},
     "output_type": "execute_result"
    }
   ],
   "source": [
    "A3=vcat(A1,A2)"
   ]
  },
  {
   "cell_type": "code",
   "execution_count": 72,
   "id": "0c5d85a9",
   "metadata": {},
   "outputs": [
    {
     "data": {
      "text/plain": [
       "3-element Vector{Int64}:\n",
       " 4\n",
       " 6\n",
       " 3"
      ]
     },
     "execution_count": 72,
     "metadata": {},
     "output_type": "execute_result"
    }
   ],
   "source": [
    "tmp=[4,6,3]"
   ]
  },
  {
   "cell_type": "code",
   "execution_count": 74,
   "id": "9af30bc7",
   "metadata": {},
   "outputs": [
    {
     "data": {
      "text/plain": [
       "10-element Vector{Int64}:\n",
       " 4\n",
       " 4\n",
       " 4\n",
       " 4\n",
       " 4\n",
       " 4\n",
       " 4\n",
       " 4\n",
       " 4\n",
       " 4"
      ]
     },
     "execution_count": 74,
     "metadata": {},
     "output_type": "execute_result"
    }
   ],
   "source": [
    "tmp10=repeat([tmp[1]],10)"
   ]
  },
  {
   "cell_type": "code",
   "execution_count": 76,
   "id": "d1cea385",
   "metadata": {},
   "outputs": [
    {
     "data": {
      "text/plain": [
       "30-element Vector{Int64}:\n",
       " 4\n",
       " 6\n",
       " 3\n",
       " 4\n",
       " 6\n",
       " 3\n",
       " 4\n",
       " 6\n",
       " 3\n",
       " 4\n",
       " ⋮\n",
       " 3\n",
       " 4\n",
       " 6\n",
       " 3\n",
       " 4\n",
       " 6\n",
       " 3\n",
       " 4\n",
       " 6\n",
       " 3"
      ]
     },
     "execution_count": 76,
     "metadata": {},
     "output_type": "execute_result"
    }
   ],
   "source": [
    "tmp_10=repeat(tmp,10)"
   ]
  },
  {
   "cell_type": "code",
   "execution_count": 78,
   "id": "1f84dff1",
   "metadata": {},
   "outputs": [
    {
     "data": {
      "text/plain": [
       "31-element Vector{Int64}:\n",
       " 4\n",
       " 4\n",
       " 4\n",
       " 4\n",
       " 4\n",
       " 4\n",
       " 4\n",
       " 4\n",
       " 4\n",
       " 4\n",
       " ⋮\n",
       " 3\n",
       " 3\n",
       " 3\n",
       " 3\n",
       " 3\n",
       " 3\n",
       " 3\n",
       " 3\n",
       " 3\n",
       " 3"
      ]
     },
     "execution_count": 78,
     "metadata": {},
     "output_type": "execute_result"
    }
   ],
   "source": [
    "#3.7\n",
    "tmp11_10_10=vcat(repeat([tmp[1]],11),repeat([tmp[2]],10), repeat([tmp[3]],10))"
   ]
  },
  {
   "cell_type": "code",
   "execution_count": 79,
   "id": "45db7e46",
   "metadata": {},
   "outputs": [
    {
     "data": {
      "text/plain": [
       "60-element Vector{Int64}:\n",
       " 4\n",
       " 4\n",
       " 4\n",
       " 4\n",
       " 4\n",
       " 4\n",
       " 4\n",
       " 4\n",
       " 4\n",
       " 4\n",
       " ⋮\n",
       " 3\n",
       " 3\n",
       " 3\n",
       " 3\n",
       " 3\n",
       " 3\n",
       " 3\n",
       " 3\n",
       " 3\n",
       " 3"
      ]
     },
     "execution_count": 79,
     "metadata": {},
     "output_type": "execute_result"
    }
   ],
   "source": [
    "#3.8\n",
    "tmp_10_20_30=vcat(repeat([tmp[1]],10),repeat([tmp[2]],20),repeat([tmp[3]],30))"
   ]
  },
  {
   "cell_type": "code",
   "execution_count": 80,
   "id": "7a845403",
   "metadata": {},
   "outputs": [
    {
     "data": {
      "text/plain": [
       "12-element Vector{Int64}:\n",
       " 16\n",
       " 64\n",
       "  8\n",
       " 16\n",
       " 64\n",
       "  8\n",
       " 16\n",
       " 64\n",
       "  8\n",
       " 16\n",
       " 64\n",
       "  8"
      ]
     },
     "execution_count": 80,
     "metadata": {},
     "output_type": "execute_result"
    }
   ],
   "source": [
    "#3.9 2^tmp[i]\n",
    "tmp2=repeat([2^tmp[i] for i in 1:3],4)"
   ]
  },
  {
   "cell_type": "code",
   "execution_count": 82,
   "id": "5625c156",
   "metadata": {},
   "outputs": [
    {
     "data": {
      "text/plain": [
       "53.11374594642971"
      ]
     },
     "execution_count": 82,
     "metadata": {},
     "output_type": "execute_result"
    }
   ],
   "source": [
    "#3.10\n",
    "using Statistics\n",
    "tmp6=[y=exp(x)*cos(x) for x=3.0:0.1:6]\n",
    "mean(tmp6)"
   ]
  },
  {
   "cell_type": "code",
   "execution_count": 83,
   "id": "c21d069b",
   "metadata": {},
   "outputs": [
    {
     "data": {
      "text/plain": [
       "144-element Vector{Vector{Float64}}:\n",
       " [0.1, 0.2]\n",
       " [0.00010000000000000002, 0.0016000000000000003]\n",
       " [1.0000000000000005e-7, 1.2800000000000006e-5]\n",
       " [1.0000000000000006e-10, 1.0240000000000006e-7]\n",
       " [1.0000000000000007e-13, 8.192000000000005e-10]\n",
       " [1.0000000000000008e-16, 6.5536000000000055e-12]\n",
       " [1.000000000000001e-19, 5.2428800000000056e-14]\n",
       " [1.0000000000000012e-22, 4.194304000000005e-16]\n",
       " [1.0000000000000013e-25, 3.3554432000000044e-18]\n",
       " [1.0000000000000015e-28, 2.684354560000004e-20]\n",
       " ⋮\n",
       " [1.0000000000000005e-7, 1.2800000000000006e-5]\n",
       " [1.0000000000000006e-10, 1.0240000000000006e-7]\n",
       " [1.0000000000000007e-13, 8.192000000000005e-10]\n",
       " [1.0000000000000008e-16, 6.5536000000000055e-12]\n",
       " [1.000000000000001e-19, 5.2428800000000056e-14]\n",
       " [1.0000000000000012e-22, 4.194304000000005e-16]\n",
       " [1.0000000000000013e-25, 3.3554432000000044e-18]\n",
       " [1.0000000000000015e-28, 2.684354560000004e-20]\n",
       " [1.0000000000000018e-31, 2.147483648000004e-22]\n",
       " [1.000000000000002e-34, 1.7179869184000035e-24]"
      ]
     },
     "execution_count": 83,
     "metadata": {},
     "output_type": "execute_result"
    }
   ],
   "source": [
    "#3.11\n",
    "A4=[[0.1^j,0.2^j] for i=3:3:36 for j=1:3:34]"
   ]
  },
  {
   "cell_type": "code",
   "execution_count": 84,
   "id": "efad63c3",
   "metadata": {},
   "outputs": [
    {
     "data": {
      "text/plain": [
       "25-element Vector{Float64}:\n",
       "      2.0\n",
       "      2.0\n",
       "      2.6666666666666665\n",
       "      4.0\n",
       "      6.4\n",
       "     10.666666666666666\n",
       "     18.285714285714285\n",
       "     32.0\n",
       "     56.888888888888886\n",
       "    102.4\n",
       "      ⋮\n",
       "   4096.0\n",
       "   7710.117647058823\n",
       "  14563.555555555555\n",
       "  27594.105263157893\n",
       "  52428.8\n",
       "  99864.38095238095\n",
       " 190650.18181818182\n",
       " 364722.0869565217\n",
       " 699050.6666666666\n",
       "      1.34217728e6"
      ]
     },
     "execution_count": 84,
     "metadata": {},
     "output_type": "execute_result"
    }
   ],
   "source": [
    "A5=[(2^i)/i for i=1:1:25]"
   ]
  },
  {
   "cell_type": "code",
   "execution_count": 85,
   "id": "7ef26045",
   "metadata": {},
   "outputs": [
    {
     "data": {
      "text/plain": [
       "30-element Vector{String}:\n",
       " \"f1\"\n",
       " \"n2\"\n",
       " \"f3\"\n",
       " \"n4\"\n",
       " \"f5\"\n",
       " \"n6\"\n",
       " \"f7\"\n",
       " \"n8\"\n",
       " \"f9\"\n",
       " \"n10\"\n",
       " ⋮\n",
       " \"f21\"\n",
       " \"n22\"\n",
       " \"f23\"\n",
       " \"n24\"\n",
       " \"f25\"\n",
       " \"n26\"\n",
       " \"f27\"\n",
       " \"n28\"\n",
       " \"f29\"\n",
       " \"n30\""
      ]
     },
     "execution_count": 85,
     "metadata": {},
     "output_type": "execute_result"
    }
   ],
   "source": [
    "num=collect(1:30)\n",
    "fn=repeat(\"fn\",30)\n",
    "map(string,fn,num)"
   ]
  },
  {
   "cell_type": "code",
   "execution_count": 86,
   "id": "22646fef",
   "metadata": {},
   "outputs": [
    {
     "data": {
      "text/plain": [
       "249-element Vector{Int64}:\n",
       " -168\n",
       " -331\n",
       "  419\n",
       " -624\n",
       " -285\n",
       " -151\n",
       "   12\n",
       " -552\n",
       "  154\n",
       " -232\n",
       "    ⋮\n",
       " -194\n",
       "  460\n",
       "  503\n",
       " -915\n",
       " -544\n",
       " -332\n",
       "  132\n",
       " -427\n",
       "  765\n",
       " -174"
      ]
     },
     "execution_count": 86,
     "metadata": {},
     "output_type": "execute_result"
    }
   ],
   "source": [
    "x=rand(0:999,250)\n",
    "y=rand(0:999,250)\n",
    "y[2:250]-x[1:249]"
   ]
  },
  {
   "cell_type": "code",
   "execution_count": 87,
   "id": "fefb23a8",
   "metadata": {},
   "outputs": [
    {
     "data": {
      "text/plain": [
       "248-element Vector{Int64}:\n",
       " 1711\n",
       "  446\n",
       " 1925\n",
       " 1115\n",
       "  945\n",
       "  -38\n",
       " 1183\n",
       " 1750\n",
       "  782\n",
       "  580\n",
       "    ⋮\n",
       "  343\n",
       "  774\n",
       "   96\n",
       " 1576\n",
       " 1725\n",
       " 2026\n",
       "  514\n",
       " 1771\n",
       "  563\n",
       "  825"
      ]
     },
     "execution_count": 87,
     "metadata": {},
     "output_type": "execute_result"
    }
   ],
   "source": [
    "x[1:248]+2*x[2:249]-x[3:250]"
   ]
  },
  {
   "cell_type": "code",
   "execution_count": 88,
   "id": "50028d0c",
   "metadata": {},
   "outputs": [
    {
     "data": {
      "text/plain": [
       "249-element Vector{Float64}:\n",
       "  -0.6098979960447871\n",
       "   1.2712944703937885\n",
       "   0.3357962226863886\n",
       "   2.1787603033568312\n",
       "  -1.242220598338491\n",
       "   0.9115819237549394\n",
       "  -0.9296168651376182\n",
       "   0.6079362367430735\n",
       "  -0.7446920544479695\n",
       "  -0.7942856275348047\n",
       "   ⋮\n",
       " -19.41844662254851\n",
       "  -0.29134180082907657\n",
       "  -0.4069195422061545\n",
       "   1.008470185548576\n",
       "  -1.7215255000600915\n",
       "  -3.063879681168841\n",
       "  -0.039718965519796076\n",
       "  -1.0451687029683614\n",
       "  -0.7508705992882289\n",
       "  -1.1291452155950994"
      ]
     },
     "execution_count": 88,
     "metadata": {},
     "output_type": "execute_result"
    }
   ],
   "source": [
    "[sin(y[i])/cos(x[i+1]) for i in 1:249]"
   ]
  },
  {
   "cell_type": "code",
   "execution_count": 89,
   "id": "e51f3961",
   "metadata": {},
   "outputs": [
    {
     "data": {
      "text/plain": [
       "0.00010016486699746194"
      ]
     },
     "execution_count": 89,
     "metadata": {},
     "output_type": "execute_result"
    }
   ],
   "source": [
    "sum([exp(-x[i+1])/(x[i]+10) for i in 1:249])"
   ]
  },
  {
   "cell_type": "code",
   "execution_count": 90,
   "id": "2155d3b3",
   "metadata": {},
   "outputs": [],
   "source": [
    "yf=findall(y->y>600,y)\n",
    "yr=[]\n",
    "for i in 1:length(yf)\n",
    "    push!(yr,y[yf[i]])\n",
    "end"
   ]
  },
  {
   "cell_type": "code",
   "execution_count": 91,
   "id": "e3008bc1",
   "metadata": {},
   "outputs": [
    {
     "data": {
      "text/plain": [
       "116-element Vector{Any}:\n",
       " 715\n",
       " 761\n",
       " 947\n",
       " 883\n",
       " 883\n",
       " 695\n",
       " 887\n",
       " 696\n",
       " 663\n",
       " 941\n",
       "   ⋮\n",
       " 654\n",
       " 760\n",
       " 816\n",
       " 813\n",
       " 946\n",
       " 616\n",
       " 896\n",
       " 892\n",
       " 834\n",
       " 891"
      ]
     },
     "execution_count": 91,
     "metadata": {},
     "output_type": "execute_result"
    }
   ],
   "source": [
    "yr"
   ]
  },
  {
   "cell_type": "code",
   "execution_count": 92,
   "id": "d9054474",
   "metadata": {},
   "outputs": [
    {
     "data": {
      "text/plain": [
       "116-element Vector{Any}:\n",
       " 958\n",
       " 271\n",
       " 425\n",
       " 110\n",
       " 465\n",
       " 603\n",
       " 966\n",
       " 738\n",
       " 361\n",
       " 671\n",
       "   ⋮\n",
       " 365\n",
       "  66\n",
       " 266\n",
       " 493\n",
       " 241\n",
       " 293\n",
       " 241\n",
       " 331\n",
       " 998\n",
       " 500"
      ]
     },
     "execution_count": 92,
     "metadata": {},
     "output_type": "execute_result"
    }
   ],
   "source": [
    "xr=[]\n",
    "for i in 1:length(yf)\n",
    "    push!(xr,x[yf[i]])\n",
    "end\n",
    "xr"
   ]
  },
  {
   "cell_type": "code",
   "execution_count": 93,
   "id": "d1fc69f3",
   "metadata": {},
   "outputs": [
    {
     "data": {
      "text/plain": [
       "250-element Vector{Float64}:\n",
       " 11.680068492949859\n",
       " 17.104853112494126\n",
       " 14.94737435137021\n",
       " 20.94220618750565\n",
       " 15.24545834010903\n",
       " 10.120474297185877\n",
       " 18.53170256614324\n",
       " 16.95806592745765\n",
       "  9.358204956079987\n",
       " 15.761472012473961\n",
       "  ⋮\n",
       "  9.350080213559666\n",
       " 13.72676218195682\n",
       " 21.876379956473603\n",
       " 15.217621364720573\n",
       " 15.986744509123803\n",
       " 15.634065370210013\n",
       " 17.075596622080297\n",
       " 19.834918704143963\n",
       "  4.407266726668579\n",
       " 14.779174537165463"
      ]
     },
     "execution_count": 93,
     "metadata": {},
     "output_type": "execute_result"
    }
   ],
   "source": [
    "av_x=mean(x)\n",
    "[abs(x[i]-av_x)^0.5 for i in 1:250]"
   ]
  },
  {
   "cell_type": "code",
   "execution_count": 94,
   "id": "7beeb7dc",
   "metadata": {},
   "outputs": [
    {
     "data": {
      "text/plain": [
       "60"
      ]
     },
     "execution_count": 94,
     "metadata": {},
     "output_type": "execute_result"
    }
   ],
   "source": [
    "ymax=maximum(y)\n",
    "ym200=findall(y->(abs(y-ymax)<=200),y)\n",
    "length(ym200)"
   ]
  },
  {
   "cell_type": "code",
   "execution_count": 95,
   "id": "59136600",
   "metadata": {},
   "outputs": [
    {
     "data": {
      "text/plain": [
       "122-element Vector{Int64}:\n",
       "   2\n",
       "   3\n",
       "   4\n",
       "   7\n",
       "  15\n",
       "  16\n",
       "  17\n",
       "  20\n",
       "  23\n",
       "  24\n",
       "   ⋮\n",
       " 228\n",
       " 230\n",
       " 232\n",
       " 233\n",
       " 235\n",
       " 237\n",
       " 241\n",
       " 243\n",
       " 248\n",
       " 249"
      ]
     },
     "execution_count": 95,
     "metadata": {},
     "output_type": "execute_result"
    }
   ],
   "source": [
    "xchet=findall(x->(x%2==0),x)"
   ]
  },
  {
   "cell_type": "code",
   "execution_count": 96,
   "id": "f449a3dc",
   "metadata": {},
   "outputs": [
    {
     "data": {
      "text/plain": [
       "128-element Vector{Int64}:\n",
       "   1\n",
       "   5\n",
       "   6\n",
       "   8\n",
       "   9\n",
       "  10\n",
       "  11\n",
       "  12\n",
       "  13\n",
       "  14\n",
       "   ⋮\n",
       " 236\n",
       " 238\n",
       " 239\n",
       " 240\n",
       " 242\n",
       " 244\n",
       " 245\n",
       " 246\n",
       " 247\n",
       " 250"
      ]
     },
     "execution_count": 96,
     "metadata": {},
     "output_type": "execute_result"
    }
   ],
   "source": [
    "xnechet=findall(x->(x%2!=0),x)"
   ]
  },
  {
   "cell_type": "code",
   "execution_count": 97,
   "id": "6f3d0a94",
   "metadata": {},
   "outputs": [
    {
     "data": {
      "text/plain": [
       "39"
      ]
     },
     "execution_count": 97,
     "metadata": {},
     "output_type": "execute_result"
    }
   ],
   "source": [
    "x_7=findall(x->(x%7==0),x)\n",
    "length(x_7)"
   ]
  },
  {
   "cell_type": "code",
   "execution_count": 98,
   "id": "f8d98179",
   "metadata": {},
   "outputs": [
    {
     "data": {
      "text/plain": [
       "250-element Vector{Any}:\n",
       " 417\n",
       " 314\n",
       " 912\n",
       " 414\n",
       " 367\n",
       " 539\n",
       " 400\n",
       " 432\n",
       " 793\n",
       " 906\n",
       "   ⋮\n",
       " 877\n",
       " 377\n",
       " 426\n",
       " 661\n",
       " 999\n",
       " 661\n",
       " 966\n",
       " 204\n",
       " 392\n",
       "  51"
      ]
     },
     "execution_count": 98,
     "metadata": {},
     "output_type": "execute_result"
    }
   ],
   "source": [
    "mp=sortperm(y)\n",
    "x_sort=[]\n",
    "for i in mp\n",
    "    push!(x_sort,x[i])\n",
    "end\n",
    "x_sort"
   ]
  },
  {
   "cell_type": "code",
   "execution_count": 99,
   "id": "618c4f0a",
   "metadata": {},
   "outputs": [
    {
     "name": "stdout",
     "output_type": "stream",
     "text": [
      "999\n",
      "998\n",
      "992\n",
      "990\n",
      "978\n",
      "977\n",
      "976\n",
      "970\n",
      "968\n",
      "966\n"
     ]
    }
   ],
   "source": [
    "x_top=sort(x,rev=true)\n",
    "for i in 1:10\n",
    "    println(x_top[i])\n",
    "end"
   ]
  },
  {
   "cell_type": "code",
   "execution_count": 100,
   "id": "9cd247e4",
   "metadata": {},
   "outputs": [
    {
     "data": {
      "text/plain": [
       "217-element Vector{Int64}:\n",
       " 383\n",
       " 812\n",
       " 296\n",
       " 958\n",
       " 287\n",
       " 417\n",
       " 176\n",
       " 807\n",
       " 607\n",
       " 271\n",
       "   ⋮\n",
       " 686\n",
       " 293\n",
       " 432\n",
       " 998\n",
       " 751\n",
       " 275\n",
       " 811\n",
       " 126\n",
       " 500\n",
       " 301"
      ]
     },
     "execution_count": 100,
     "metadata": {},
     "output_type": "execute_result"
    }
   ],
   "source": [
    "unique(x)"
   ]
  },
  {
   "cell_type": "code",
   "execution_count": 101,
   "id": "f156d3ec",
   "metadata": {},
   "outputs": [
    {
     "data": {
      "text/plain": [
       "100-element Vector{Int64}:\n",
       "     1\n",
       "     4\n",
       "     9\n",
       "    16\n",
       "    25\n",
       "    36\n",
       "    49\n",
       "    64\n",
       "    81\n",
       "   100\n",
       "     ⋮\n",
       "  8281\n",
       "  8464\n",
       "  8649\n",
       "  8836\n",
       "  9025\n",
       "  9216\n",
       "  9409\n",
       "  9604\n",
       "  9801\n",
       " 10000"
      ]
     },
     "execution_count": 101,
     "metadata": {},
     "output_type": "execute_result"
    }
   ],
   "source": [
    "squares=[i^2 for i in 1:100]"
   ]
  },
  {
   "cell_type": "code",
   "execution_count": 104,
   "id": "f2605e58",
   "metadata": {},
   "outputs": [
    {
     "name": "stdout",
     "output_type": "stream",
     "text": [
      "461\n",
      "[461, 463, 467, 479, 487, 491, 499, 503, 509, 521, 523]\n"
     ]
    }
   ],
   "source": [
    "using Primes\n",
    "myprimes=primes(999)\n",
    "println(myprimes[89])\n",
    "println(myprimes[89:99])"
   ]
  },
  {
   "cell_type": "code",
   "execution_count": 105,
   "id": "8cd0e0b3",
   "metadata": {},
   "outputs": [
    {
     "data": {
      "text/plain": [
       "26852735"
      ]
     },
     "execution_count": 105,
     "metadata": {},
     "output_type": "execute_result"
    }
   ],
   "source": [
    "su=[i^3+4*i^2 for i in 10:100]\n",
    "sum(su)"
   ]
  },
  {
   "cell_type": "code",
   "execution_count": 106,
   "id": "a3818523",
   "metadata": {},
   "outputs": [
    {
     "data": {
      "text/plain": [
       "2.1291704368143802e9"
      ]
     },
     "execution_count": 106,
     "metadata": {},
     "output_type": "execute_result"
    }
   ],
   "source": [
    "su2=[(2^i)/i+(3^i)/(i*i) for i in 1:25]\n",
    "sum(su2)"
   ]
  },
  {
   "cell_type": "code",
   "execution_count": 107,
   "id": "ae5473ba",
   "metadata": {},
   "outputs": [
    {
     "data": {
      "text/plain": [
       "5.97634613789762"
      ]
     },
     "execution_count": 107,
     "metadata": {},
     "output_type": "execute_result"
    }
   ],
   "source": [
    "x=collect(2:2:38)\n",
    "sum(cumprod(x./(x.+1)))"
   ]
  },
  {
   "cell_type": "code",
   "execution_count": null,
   "id": "47c89101",
   "metadata": {},
   "outputs": [],
   "source": []
  }
 ],
 "metadata": {
  "kernelspec": {
   "display_name": "Julia 1.9.3",
   "language": "julia",
   "name": "julia-1.9"
  },
  "language_info": {
   "file_extension": ".jl",
   "mimetype": "application/julia",
   "name": "julia",
   "version": "1.9.3"
  }
 },
 "nbformat": 4,
 "nbformat_minor": 5
}
