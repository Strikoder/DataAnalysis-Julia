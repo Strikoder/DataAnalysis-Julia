{
 "cells": [
  {
   "cell_type": "code",
   "execution_count": 1,
   "id": "2a69d8ee",
   "metadata": {},
   "outputs": [
    {
     "name": "stdout",
     "output_type": "stream",
     "text": [
      "1\n",
      "2\n",
      "3\n",
      "4\n",
      "5\n",
      "6\n",
      "7\n",
      "8\n",
      "9\n",
      "10\n"
     ]
    }
   ],
   "source": [
    "n=0\n",
    "while n<10\n",
    "    n+=1\n",
    "    println(n)\n",
    "end"
   ]
  },
  {
   "cell_type": "code",
   "execution_count": 3,
   "id": "f16bc9fa",
   "metadata": {},
   "outputs": [
    {
     "name": "stdout",
     "output_type": "stream",
     "text": [
      "Hi Ted, it's great to see you!\n",
      "Hi Robyn, it's great to see you!\n",
      "Hi Barney, it's great to see you!\n",
      "Hi Lily, it's great to see you!\n",
      "Hi Marshall, it's great to see you!\n"
     ]
    }
   ],
   "source": [
    "myfriends=[\"Ted\",\"Robyn\",\"Barney\",\"Lily\",\"Marshall\"]\n",
    "i = 1\n",
    "while i<=length(myfriends)\n",
    "    friend=myfriends[i]\n",
    "    println(\"Hi $friend, it's great to see you!\")\n",
    "    i+=1\n",
    "end"
   ]
  },
  {
   "cell_type": "code",
   "execution_count": 4,
   "id": "1b97a196",
   "metadata": {},
   "outputs": [
    {
     "name": "stdout",
     "output_type": "stream",
     "text": [
      "1\n",
      "3\n",
      "5\n",
      "7\n",
      "9\n",
      "Hi Ted, it's great to see you!\n",
      "Hi Robyn, it's great to see you!\n",
      "Hi Barney, it's great to see you!\n",
      "Hi Lily, it's great to see you!\n",
      "Hi Marshall, it's great to see you!\n"
     ]
    }
   ],
   "source": [
    "for n in 1:2:10\n",
    "    println(n)\n",
    "end\n",
    "myfriends=[\"Ted\",\"Robyn\",\"Barney\",\"Lily\",\"Marshall\"]\n",
    "for friend in myfriends\n",
    "    println(\"Hi $friend, it's great to see you!\")\n",
    "end"
   ]
  },
  {
   "cell_type": "code",
   "execution_count": 5,
   "id": "3100fefd",
   "metadata": {},
   "outputs": [
    {
     "data": {
      "text/plain": [
       "5×5 Matrix{Int64}:\n",
       " 2  3  4  5   6\n",
       " 3  4  5  6   7\n",
       " 4  5  6  7   8\n",
       " 5  6  7  8   9\n",
       " 6  7  8  9  10"
      ]
     },
     "execution_count": 5,
     "metadata": {},
     "output_type": "execute_result"
    }
   ],
   "source": [
    "m,n =5,5\n",
    "A=fill(0,(m,n))\n",
    "for i in 1:m\n",
    "    for j in 1:n\n",
    "        A[i,j]=i+j\n",
    "    end\n",
    "end\n",
    "A"
   ]
  },
  {
   "cell_type": "code",
   "execution_count": 7,
   "id": "62fcfbd5",
   "metadata": {},
   "outputs": [
    {
     "data": {
      "text/plain": [
       "5×5 Matrix{Int64}:\n",
       " 2  3  4  5   6\n",
       " 3  4  5  6   7\n",
       " 4  5  6  7   8\n",
       " 5  6  7  8   9\n",
       " 6  7  8  9  10"
      ]
     },
     "execution_count": 7,
     "metadata": {},
     "output_type": "execute_result"
    }
   ],
   "source": [
    "B= fill(0,(m,n))\n",
    "for i in 1:m, j in 1:n\n",
    "    B[i,j]=i+j\n",
    "end\n",
    "B"
   ]
  },
  {
   "cell_type": "code",
   "execution_count": 9,
   "id": "12d430d8",
   "metadata": {},
   "outputs": [
    {
     "data": {
      "text/plain": [
       "5×5 Matrix{Int64}:\n",
       " 2  3  4  5   6\n",
       " 3  4  5  6   7\n",
       " 4  5  6  7   8\n",
       " 5  6  7  8   9\n",
       " 6  7  8  9  10"
      ]
     },
     "execution_count": 9,
     "metadata": {},
     "output_type": "execute_result"
    }
   ],
   "source": [
    "C=[i+j for i in 1:m, j in 1:n]\n",
    "C"
   ]
  },
  {
   "cell_type": "code",
   "execution_count": 10,
   "id": "d34482e4",
   "metadata": {},
   "outputs": [
    {
     "name": "stdout",
     "output_type": "stream",
     "text": [
      "Buzz\n"
     ]
    }
   ],
   "source": [
    "N=10\n",
    "if (N%3==0)&&(N%5==0)\n",
    "    println(\"FizzBuzz\")\n",
    "elseif N%3==0\n",
    "    println(\"Fizz\")\n",
    "elseif N%5==0\n",
    "    println(\"Buzz\")\n",
    "else \n",
    "    println(N)\n",
    "end"
   ]
  },
  {
   "cell_type": "code",
   "execution_count": 15,
   "id": "81d2c91b",
   "metadata": {},
   "outputs": [
    {
     "data": {
      "text/plain": [
       "10"
      ]
     },
     "execution_count": 15,
     "metadata": {},
     "output_type": "execute_result"
    }
   ],
   "source": [
    "x=5\n",
    "y=10\n",
    "\n",
    "(x > y) ? x : y"
   ]
  },
  {
   "cell_type": "code",
   "execution_count": 16,
   "id": "2374d04f",
   "metadata": {},
   "outputs": [
    {
     "data": {
      "text/plain": [
       "f (generic function with 1 method)"
      ]
     },
     "execution_count": 16,
     "metadata": {},
     "output_type": "execute_result"
    }
   ],
   "source": [
    "function sayhi(name)\n",
    "    println(\"Hi $name, it's great to see you!\")\n",
    "end\n",
    "function f(x)\n",
    "    x^2\n",
    "end"
   ]
  },
  {
   "cell_type": "code",
   "execution_count": 17,
   "id": "2aa51965",
   "metadata": {},
   "outputs": [
    {
     "name": "stdout",
     "output_type": "stream",
     "text": [
      "Hi C-3PO, it's great to see you!\n"
     ]
    },
    {
     "data": {
      "text/plain": [
       "1764"
      ]
     },
     "execution_count": 17,
     "metadata": {},
     "output_type": "execute_result"
    }
   ],
   "source": [
    "sayhi(\"C-3PO\")\n",
    "f(42)"
   ]
  },
  {
   "cell_type": "code",
   "execution_count": 21,
   "id": "d5d4a21d",
   "metadata": {},
   "outputs": [
    {
     "data": {
      "text/plain": [
       "#15 (generic function with 1 method)"
      ]
     },
     "execution_count": 21,
     "metadata": {},
     "output_type": "execute_result"
    }
   ],
   "source": [
    "sayhi3 = name -> println(\"Hi $name, it's great to see you!\")\n",
    "f3= x -> x^2"
   ]
  },
  {
   "cell_type": "code",
   "execution_count": 26,
   "id": "ef192c29",
   "metadata": {},
   "outputs": [
    {
     "data": {
      "text/plain": [
       "3-element Vector{Int64}:\n",
       " 3\n",
       " 5\n",
       " 2"
      ]
     },
     "execution_count": 26,
     "metadata": {},
     "output_type": "execute_result"
    }
   ],
   "source": [
    "v = [3,5,2]\n",
    "sort(v)\n",
    "v"
   ]
  },
  {
   "cell_type": "code",
   "execution_count": 27,
   "id": "28385d45",
   "metadata": {},
   "outputs": [
    {
     "data": {
      "text/plain": [
       "3-element Vector{Int64}:\n",
       " 2\n",
       " 3\n",
       " 5"
      ]
     },
     "execution_count": 27,
     "metadata": {},
     "output_type": "execute_result"
    }
   ],
   "source": [
    "sort!(v)\n",
    "v"
   ]
  },
  {
   "cell_type": "code",
   "execution_count": 30,
   "id": "b284543d",
   "metadata": {},
   "outputs": [
    {
     "data": {
      "text/plain": [
       "3-element Vector{Int64}:\n",
       "  1\n",
       "  8\n",
       " 27"
      ]
     },
     "execution_count": 30,
     "metadata": {},
     "output_type": "execute_result"
    }
   ],
   "source": [
    "map(x -> x^3, [1,2,3] )"
   ]
  },
  {
   "cell_type": "code",
   "execution_count": 31,
   "id": "64723986",
   "metadata": {},
   "outputs": [
    {
     "data": {
      "text/plain": [
       "3-element Vector{Int64}:\n",
       " 1\n",
       " 4\n",
       " 9"
      ]
     },
     "execution_count": 31,
     "metadata": {},
     "output_type": "execute_result"
    }
   ],
   "source": [
    "f(x)=x^2\n",
    "broadcast(f,[1,2,3])"
   ]
  },
  {
   "cell_type": "code",
   "execution_count": 32,
   "id": "93489537",
   "metadata": {},
   "outputs": [
    {
     "data": {
      "text/plain": [
       "3×3 Matrix{Int64}:\n",
       "  30   36   42\n",
       "  66   81   96\n",
       " 102  126  150"
      ]
     },
     "execution_count": 32,
     "metadata": {},
     "output_type": "execute_result"
    }
   ],
   "source": [
    "f.([1,2,3])\n",
    "A=[i+3*j for j in 0:2, i in 1:3]\n",
    "f(A)"
   ]
  },
  {
   "cell_type": "code",
   "execution_count": 39,
   "id": "25624a89",
   "metadata": {},
   "outputs": [
    {
     "data": {
      "text/plain": [
       "3×3 Matrix{Float64}:\n",
       "  3.0   6.0   9.0\n",
       " 12.0  15.0  18.0\n",
       " 21.0  24.0  27.0"
      ]
     },
     "execution_count": 39,
     "metadata": {},
     "output_type": "execute_result"
    }
   ],
   "source": [
    "A .+ 2 .*f.(A) ./A\n",
    "@. A + 2 * f(A) /A\n",
    "broadcast(x -> x+2 * f(x) /x, A)"
   ]
  },
  {
   "cell_type": "code",
   "execution_count": 4,
   "id": "8f4e5d36",
   "metadata": {},
   "outputs": [
    {
     "name": "stderr",
     "output_type": "stream",
     "text": [
      "\u001b[32m\u001b[1m    Updating\u001b[22m\u001b[39m registry at `C:\\Users\\ameen\\.julia\\registries\\General.toml`\n",
      "\u001b[32m\u001b[1m   Resolving\u001b[22m\u001b[39m package versions...\n",
      "\u001b[32m\u001b[1m  No Changes\u001b[22m\u001b[39m to `C:\\Users\\ameen\\.julia\\environments\\v1.9\\Project.toml`\n",
      "\u001b[32m\u001b[1m  No Changes\u001b[22m\u001b[39m to `C:\\Users\\ameen\\.julia\\environments\\v1.9\\Manifest.toml`\n"
     ]
    }
   ],
   "source": [
    "import Pkg\n",
    "Pkg.add(\"Example\")"
   ]
  },
  {
   "cell_type": "code",
   "execution_count": 5,
   "id": "692164d1",
   "metadata": {},
   "outputs": [
    {
     "name": "stderr",
     "output_type": "stream",
     "text": [
      "\u001b[32m\u001b[1m   Resolving\u001b[22m\u001b[39m package versions...\n",
      "\u001b[32m\u001b[1m  No Changes\u001b[22m\u001b[39m to `C:\\Users\\ameen\\.julia\\environments\\v1.9\\Project.toml`\n",
      "\u001b[32m\u001b[1m  No Changes\u001b[22m\u001b[39m to `C:\\Users\\ameen\\.julia\\environments\\v1.9\\Manifest.toml`\n"
     ]
    }
   ],
   "source": [
    "Pkg.add(\"Colors\")\n",
    "using Colors"
   ]
  },
  {
   "cell_type": "code",
   "execution_count": 6,
   "id": "ed9dba0f",
   "metadata": {},
   "outputs": [
    {
     "data": {
      "image/svg+xml": [
       "<?xml version=\"1.0\" encoding=\"UTF-8\"?>\n",
       "<!DOCTYPE svg PUBLIC \"-//W3C//DTD SVG 1.1//EN\"\n",
       " \"http://www.w3.org/Graphics/SVG/1.1/DTD/svg11.dtd\">\n",
       "<svg xmlns=\"http://www.w3.org/2000/svg\" version=\"1.1\"\n",
       "     width=\"180mm\" height=\"25mm\"\n",
       "     viewBox=\"0 0 100 1\" preserveAspectRatio=\"none\"\n",
       "     shape-rendering=\"crispEdges\" stroke=\"none\">\n",
       "<rect width=\"1\" height=\".96\" x=\"0\" y=\"0\" fill=\"#000000\" />\n",
       "<rect width=\"1\" height=\".96\" x=\"1\" y=\"0\" fill=\"#FFFF74\" />\n",
       "<rect width=\"1\" height=\".96\" x=\"2\" y=\"0\" fill=\"#FF9BFF\" />\n",
       "<rect width=\"1\" height=\".96\" x=\"3\" y=\"0\" fill=\"#00D3FF\" />\n",
       "<rect width=\"1\" height=\".96\" x=\"4\" y=\"0\" fill=\"#E2630D\" />\n",
       "<rect width=\"1\" height=\".96\" x=\"5\" y=\"0\" fill=\"#007E00\" />\n",
       "<rect width=\"1\" height=\".96\" x=\"6\" y=\"0\" fill=\"#0050E6\" />\n",
       "<rect width=\"1\" height=\".96\" x=\"7\" y=\"0\" fill=\"#AC0047\" />\n",
       "<rect width=\"1\" height=\".96\" x=\"8\" y=\"0\" fill=\"#00FFC8\" />\n",
       "<rect width=\"1\" height=\".96\" x=\"9\" y=\"0\" fill=\"#006468\" />\n",
       "<rect width=\"1\" height=\".96\" x=\"10\" y=\"0\" fill=\"#FFD5C4\" />\n",
       "<rect width=\"1\" height=\".96\" x=\"11\" y=\"0\" fill=\"#6C5200\" />\n",
       "<rect width=\"1\" height=\".96\" x=\"12\" y=\"0\" fill=\"#7A7581\" />\n",
       "<rect width=\"1\" height=\".96\" x=\"13\" y=\"0\" fill=\"#44005C\" />\n",
       "<rect width=\"1\" height=\".96\" x=\"14\" y=\"0\" fill=\"#9E9E77\" />\n",
       "<rect width=\"1\" height=\".96\" x=\"15\" y=\"0\" fill=\"#FF5C78\" />\n",
       "<rect width=\"1\" height=\".96\" x=\"16\" y=\"0\" fill=\"#8197F1\" />\n",
       "<rect width=\"1\" height=\".96\" x=\"17\" y=\"0\" fill=\"#003200\" />\n",
       "<rect width=\"1\" height=\".96\" x=\"18\" y=\"0\" fill=\"#C721DD\" />\n",
       "<rect width=\"1\" height=\".96\" x=\"19\" y=\"0\" fill=\"#FFAD07\" />\n",
       "<rect width=\"1\" height=\".96\" x=\"20\" y=\"0\" fill=\"#611C00\" />\n",
       "<rect width=\"1\" height=\".96\" x=\"21\" y=\"0\" fill=\"#F3FFFA\" />\n",
       "<rect width=\"1\" height=\".96\" x=\"22\" y=\"0\" fill=\"#009E88\" />\n",
       "<rect width=\"1\" height=\".96\" x=\"23\" y=\"0\" fill=\"#5EC700\" />\n",
       "<rect width=\"1\" height=\".96\" x=\"24\" y=\"0\" fill=\"#002D54\" />\n",
       "<rect width=\"1\" height=\".96\" x=\"25\" y=\"0\" fill=\"#553C4A\" />\n",
       "<rect width=\"1\" height=\".96\" x=\"26\" y=\"0\" fill=\"#444439\" />\n",
       "<rect width=\"1\" height=\".96\" x=\"27\" y=\"0\" fill=\"#008FB6\" />\n",
       "<rect width=\"1\" height=\".96\" x=\"28\" y=\"0\" fill=\"#CFD4FD\" />\n",
       "<rect width=\"1\" height=\".96\" x=\"29\" y=\"0\" fill=\"#C40000\" />\n",
       "<rect width=\"1\" height=\".96\" x=\"30\" y=\"0\" fill=\"#A4675C\" />\n",
       "<rect width=\"1\" height=\".96\" x=\"31\" y=\"0\" fill=\"#BB8FA8\" />\n",
       "<rect width=\"1\" height=\".96\" x=\"32\" y=\"0\" fill=\"#290001\" />\n",
       "<rect width=\"1\" height=\".96\" x=\"33\" y=\"0\" fill=\"#A78600\" />\n",
       "<rect width=\"1\" height=\".96\" x=\"34\" y=\"0\" fill=\"#002D30\" />\n",
       "<rect width=\"1\" height=\".96\" x=\"35\" y=\"0\" fill=\"#C7DEAA\" />\n",
       "<rect width=\"1\" height=\".96\" x=\"36\" y=\"0\" fill=\"#8D9FA3\" />\n",
       "<rect width=\"1\" height=\".96\" x=\"37\" y=\"0\" fill=\"#6F5B95\" />\n",
       "<rect width=\"1\" height=\".96\" x=\"38\" y=\"0\" fill=\"#A1FFFF\" />\n",
       "<rect width=\"1\" height=\".96\" x=\"39\" y=\"0\" fill=\"#B39688\" />\n",
       "<rect width=\"1\" height=\".96\" x=\"40\" y=\"0\" fill=\"#4E6D50\" />\n",
       "<rect width=\"1\" height=\".96\" x=\"41\" y=\"0\" fill=\"#FF977B\" />\n",
       "<rect width=\"1\" height=\".96\" x=\"42\" y=\"0\" fill=\"#FFD1EC\" />\n",
       "<rect width=\"1\" height=\".96\" x=\"43\" y=\"0\" fill=\"#9E5100\" />\n",
       "<rect width=\"1\" height=\".96\" x=\"44\" y=\"0\" fill=\"#AE5B8E\" />\n",
       "<rect width=\"1\" height=\".96\" x=\"45\" y=\"0\" fill=\"#799400\" />\n",
       "<rect width=\"1\" height=\".96\" x=\"46\" y=\"0\" fill=\"#362200\" />\n",
       "<rect width=\"1\" height=\".96\" x=\"47\" y=\"0\" fill=\"#0E0026\" />\n",
       "<rect width=\"1\" height=\".96\" x=\"48\" y=\"0\" fill=\"#80765F\" />\n",
       "<rect width=\"1\" height=\".96\" x=\"49\" y=\"0\" fill=\"#485C00\" />\n",
       "<rect width=\"1\" height=\".96\" x=\"50\" y=\"0\" fill=\"#C8C2B5\" />\n",
       "<rect width=\"1\" height=\".96\" x=\"51\" y=\"0\" fill=\"#8800A1\" />\n",
       "<rect width=\"1\" height=\".96\" x=\"52\" y=\"0\" fill=\"#00A853\" />\n",
       "<rect width=\"1\" height=\".96\" x=\"53\" y=\"0\" fill=\"#FFE1AA\" />\n",
       "<rect width=\"1\" height=\".96\" x=\"54\" y=\"0\" fill=\"#674F42\" />\n",
       "<rect width=\"1\" height=\".96\" x=\"55\" y=\"0\" fill=\"#FF342D\" />\n",
       "<rect width=\"1\" height=\".96\" x=\"56\" y=\"0\" fill=\"#6B0041\" />\n",
       "<rect width=\"1\" height=\".96\" x=\"57\" y=\"0\" fill=\"#0806B1\" />\n",
       "<rect width=\"1\" height=\".96\" x=\"58\" y=\"0\" fill=\"#986DFF\" />\n",
       "<rect width=\"1\" height=\".96\" x=\"59\" y=\"0\" fill=\"#FF4EC7\" />\n",
       "<rect width=\"1\" height=\".96\" x=\"60\" y=\"0\" fill=\"#8AB9A2\" />\n",
       "<rect width=\"1\" height=\".96\" x=\"61\" y=\"0\" fill=\"#2EFF71\" />\n",
       "<rect width=\"1\" height=\".96\" x=\"62\" y=\"0\" fill=\"#005577\" />\n",
       "<rect width=\"1\" height=\".96\" x=\"63\" y=\"0\" fill=\"#0078E3\" />\n",
       "<rect width=\"1\" height=\".96\" x=\"64\" y=\"0\" fill=\"#B2ADB9\" />\n",
       "<rect width=\"1\" height=\".96\" x=\"65\" y=\"0\" fill=\"#00C3C6\" />\n",
       "<rect width=\"1\" height=\".96\" x=\"66\" y=\"0\" fill=\"#00AEFF\" />\n",
       "<rect width=\"1\" height=\".96\" x=\"67\" y=\"0\" fill=\"#4E545F\" />\n",
       "<rect width=\"1\" height=\".96\" x=\"68\" y=\"0\" fill=\"#FF9BB0\" />\n",
       "<rect width=\"1\" height=\".96\" x=\"69\" y=\"0\" fill=\"#FED206\" />\n",
       "<rect width=\"1\" height=\".96\" x=\"70\" y=\"0\" fill=\"#687B7A\" />\n",
       "<rect width=\"1\" height=\".96\" x=\"71\" y=\"0\" fill=\"#B1DCFC\" />\n",
       "<rect width=\"1\" height=\".96\" x=\"72\" y=\"0\" fill=\"#FFF6FF\" />\n",
       "<rect width=\"1\" height=\".96\" x=\"73\" y=\"0\" fill=\"#620019\" />\n",
       "<rect width=\"1\" height=\".96\" x=\"74\" y=\"0\" fill=\"#C79253\" />\n",
       "<rect width=\"1\" height=\".96\" x=\"75\" y=\"0\" fill=\"#A891CF\" />\n",
       "<rect width=\"1\" height=\".96\" x=\"76\" y=\"0\" fill=\"#EF007A\" />\n",
       "<rect width=\"1\" height=\".96\" x=\"77\" y=\"0\" fill=\"#B8CE00\" />\n",
       "<rect width=\"1\" height=\".96\" x=\"78\" y=\"0\" fill=\"#001700\" />\n",
       "<rect width=\"1\" height=\".96\" x=\"79\" y=\"0\" fill=\"#204B39\" />\n",
       "<rect width=\"1\" height=\".96\" x=\"80\" y=\"0\" fill=\"#875866\" />\n",
       "<rect width=\"1\" height=\".96\" x=\"81\" y=\"0\" fill=\"#B5FF4E\" />\n",
       "<rect width=\"1\" height=\".96\" x=\"82\" y=\"0\" fill=\"#B40080\" />\n",
       "<rect width=\"1\" height=\".96\" x=\"83\" y=\"0\" fill=\"#853F34\" />\n",
       "<rect width=\"1\" height=\".96\" x=\"84\" y=\"0\" fill=\"#69936B\" />\n",
       "<rect width=\"1\" height=\".96\" x=\"85\" y=\"0\" fill=\"#FFBC80\" />\n",
       "<rect width=\"1\" height=\".96\" x=\"86\" y=\"0\" fill=\"#4C3779\" />\n",
       "<rect width=\"1\" height=\".96\" x=\"87\" y=\"0\" fill=\"#323606\" />\n",
       "<rect width=\"1\" height=\".96\" x=\"88\" y=\"0\" fill=\"#008E94\" />\n",
       "<rect width=\"1\" height=\".96\" x=\"89\" y=\"0\" fill=\"#CAAC51\" />\n",
       "<rect width=\"1\" height=\".96\" x=\"90\" y=\"0\" fill=\"#787B3B\" />\n",
       "<rect width=\"1\" height=\".96\" x=\"91\" y=\"0\" fill=\"#B6F9D9\" />\n",
       "<rect width=\"1\" height=\".96\" x=\"92\" y=\"0\" fill=\"#DA003F\" />\n",
       "<rect width=\"1\" height=\".96\" x=\"93\" y=\"0\" fill=\"#2E2124\" />\n",
       "<rect width=\"1\" height=\".96\" x=\"94\" y=\"0\" fill=\"#005815\" />\n",
       "<rect width=\"1\" height=\".96\" x=\"95\" y=\"0\" fill=\"#FF8E1D\" />\n",
       "<rect width=\"1\" height=\".96\" x=\"96\" y=\"0\" fill=\"#6674B1\" />\n",
       "<rect width=\"1\" height=\".96\" x=\"97\" y=\"0\" fill=\"#00CDAD\" />\n",
       "<rect width=\"1\" height=\".96\" x=\"98\" y=\"0\" fill=\"#007F63\" />\n",
       "<rect width=\"1\" height=\".96\" x=\"99\" y=\"0\" fill=\"#996F3D\" />\n",
       "</svg>"
      ],
      "text/plain": [
       "100-element Array{RGB{N0f8},1} with eltype RGB{FixedPointNumbers.N0f8}:\n",
       " RGB{N0f8}(0.0,0.0,0.0)\n",
       " RGB{N0f8}(1.0,1.0,0.455)\n",
       " RGB{N0f8}(1.0,0.608,1.0)\n",
       " RGB{N0f8}(0.0,0.827,1.0)\n",
       " RGB{N0f8}(0.886,0.388,0.051)\n",
       " RGB{N0f8}(0.0,0.494,0.0)\n",
       " RGB{N0f8}(0.0,0.314,0.902)\n",
       " RGB{N0f8}(0.675,0.0,0.278)\n",
       " RGB{N0f8}(0.0,1.0,0.784)\n",
       " RGB{N0f8}(0.0,0.392,0.408)\n",
       " RGB{N0f8}(1.0,0.835,0.769)\n",
       " RGB{N0f8}(0.424,0.322,0.0)\n",
       " RGB{N0f8}(0.478,0.459,0.506)\n",
       " ⋮\n",
       " RGB{N0f8}(0.0,0.557,0.58)\n",
       " RGB{N0f8}(0.792,0.675,0.318)\n",
       " RGB{N0f8}(0.471,0.482,0.231)\n",
       " RGB{N0f8}(0.714,0.976,0.851)\n",
       " RGB{N0f8}(0.855,0.0,0.247)\n",
       " RGB{N0f8}(0.18,0.129,0.141)\n",
       " RGB{N0f8}(0.0,0.345,0.082)\n",
       " RGB{N0f8}(1.0,0.557,0.114)\n",
       " RGB{N0f8}(0.4,0.455,0.694)\n",
       " RGB{N0f8}(0.0,0.804,0.678)\n",
       " RGB{N0f8}(0.0,0.498,0.388)\n",
       " RGB{N0f8}(0.6,0.435,0.239)"
      ]
     },
     "execution_count": 6,
     "metadata": {},
     "output_type": "execute_result"
    }
   ],
   "source": [
    "palette=distinguishable_colors(100)"
   ]
  },
  {
   "cell_type": "code",
   "execution_count": 7,
   "id": "7c702d6a",
   "metadata": {},
   "outputs": [
    {
     "data": {
      "image/svg+xml": [
       "<?xml version=\"1.0\" encoding=\"UTF-8\"?>\n",
       "<!DOCTYPE svg PUBLIC \"-//W3C//DTD SVG 1.1//EN\"\n",
       " \"http://www.w3.org/Graphics/SVG/1.1/DTD/svg11.dtd\">\n",
       "<svg xmlns=\"http://www.w3.org/2000/svg\" version=\"1.1\"\n",
       "     width=\"75mm\" height=\"75mm\"\n",
       "     viewBox=\"0 0 3 3\" preserveAspectRatio=\"none\"\n",
       "     shape-rendering=\"crispEdges\" stroke=\"none\">\n",
       "<rect width=\".96\" height=\".96\" x=\"0\" y=\"0\" fill=\"#FFF6FF\" />\n",
       "<rect width=\".96\" height=\".96\" x=\"1\" y=\"0\" fill=\"#000000\" />\n",
       "<rect width=\".96\" height=\".96\" x=\"2\" y=\"0\" fill=\"#C79253\" />\n",
       "<rect width=\".96\" height=\".96\" x=\"0\" y=\"1\" fill=\"#4C3779\" />\n",
       "<rect width=\".96\" height=\".96\" x=\"1\" y=\"1\" fill=\"#A891CF\" />\n",
       "<rect width=\".96\" height=\".96\" x=\"2\" y=\"1\" fill=\"#5EC700\" />\n",
       "<rect width=\".96\" height=\".96\" x=\"0\" y=\"2\" fill=\"#CFD4FD\" />\n",
       "<rect width=\".96\" height=\".96\" x=\"1\" y=\"2\" fill=\"#00D3FF\" />\n",
       "<rect width=\".96\" height=\".96\" x=\"2\" y=\"2\" fill=\"#C79253\" />\n",
       "</svg>"
      ],
      "text/plain": [
       "3×3 Array{RGB{N0f8},2} with eltype RGB{FixedPointNumbers.N0f8}:\n",
       " RGB{N0f8}(1.0,0.965,1.0)      …  RGB{N0f8}(0.78,0.573,0.325)\n",
       " RGB{N0f8}(0.298,0.216,0.475)     RGB{N0f8}(0.369,0.78,0.0)\n",
       " RGB{N0f8}(0.812,0.831,0.992)     RGB{N0f8}(0.78,0.573,0.325)"
      ]
     },
     "execution_count": 7,
     "metadata": {},
     "output_type": "execute_result"
    }
   ],
   "source": [
    "rand(palette,3,3)"
   ]
  },
  {
   "cell_type": "code",
   "execution_count": 46,
   "id": "51057b25",
   "metadata": {},
   "outputs": [
    {
     "name": "stdout",
     "output_type": "stream",
     "text": [
      "1 1\n",
      "2 4\n",
      "3 9\n",
      "4 16\n",
      "5 25\n",
      "6 36\n",
      "7 49\n",
      "8 64\n",
      "9 81\n",
      "10 100\n",
      "11 121\n",
      "12 144\n",
      "13 169\n",
      "14 196\n",
      "15 225\n",
      "16 256\n",
      "17 289\n",
      "18 324\n",
      "19 361\n",
      "20 400\n",
      "21 441\n",
      "22 484\n",
      "23 529\n",
      "24 576\n",
      "25 625\n",
      "26 676\n",
      "27 729\n",
      "28 784\n",
      "29 841\n",
      "30 900\n",
      "31 961\n",
      "32 1024\n",
      "33 1089\n",
      "34 1156\n",
      "35 1225\n",
      "36 1296\n",
      "37 1369\n",
      "38 1444\n",
      "39 1521\n",
      "40 1600\n",
      "41 1681\n",
      "42 1764\n",
      "43 1849\n",
      "44 1936\n",
      "45 2025\n",
      "46 2116\n",
      "47 2209\n",
      "48 2304\n",
      "49 2401\n",
      "50 2500\n",
      "51 2601\n",
      "52 2704\n",
      "53 2809\n",
      "54 2916\n",
      "55 3025\n",
      "56 3136\n",
      "57 3249\n",
      "58 3364\n",
      "59 3481\n",
      "60 3600\n",
      "61 3721\n",
      "62 3844\n",
      "63 3969\n",
      "64 4096\n",
      "65 4225\n",
      "66 4356\n",
      "67 4489\n",
      "68 4624\n",
      "69 4761\n",
      "70 4900\n",
      "71 5041\n",
      "72 5184\n",
      "73 5329\n",
      "74 5476\n",
      "75 5625\n",
      "76 5776\n",
      "77 5929\n",
      "78 6084\n",
      "79 6241\n",
      "80 6400\n",
      "81 6561\n",
      "82 6724\n",
      "83 6889\n",
      "84 7056\n",
      "85 7225\n",
      "86 7396\n",
      "87 7569\n",
      "88 7744\n",
      "89 7921\n",
      "90 8100\n",
      "91 8281\n",
      "92 8464\n",
      "93 8649\n",
      "94 8836\n",
      "95 9025\n",
      "96 9216\n",
      "97 9409\n",
      "98 9604\n",
      "99 9801\n",
      "100 10000\n"
     ]
    }
   ],
   "source": [
    "# задание\n",
    "for n in 1:100\n",
    "    println(n,\" \", n^2)\n",
    "end"
   ]
  },
  {
   "cell_type": "code",
   "execution_count": 47,
   "id": "1f702380",
   "metadata": {},
   "outputs": [
    {
     "name": "stdout",
     "output_type": "stream",
     "text": [
      "1=>1\n",
      "2=>4\n",
      "3=>9\n",
      "4=>16\n",
      "5=>25\n",
      "6=>36\n",
      "7=>49\n",
      "8=>64\n",
      "9=>81\n",
      "10=>100\n"
     ]
    }
   ],
   "source": [
    "squares = Dict(i=>i^2 for i=1:10)\n",
    "for key in sort(collect(keys(squares)))\n",
    "    println(\"$key=>$(squares[key])\")\n",
    "end"
   ]
  },
  {
   "cell_type": "code",
   "execution_count": 48,
   "id": "56513251",
   "metadata": {},
   "outputs": [
    {
     "data": {
      "text/plain": [
       "100-element Vector{Int64}:\n",
       "     1\n",
       "     4\n",
       "     9\n",
       "    16\n",
       "    25\n",
       "    36\n",
       "    49\n",
       "    64\n",
       "    81\n",
       "   100\n",
       "   121\n",
       "   144\n",
       "   169\n",
       "     ⋮\n",
       "  7921\n",
       "  8100\n",
       "  8281\n",
       "  8464\n",
       "  8649\n",
       "  8836\n",
       "  9025\n",
       "  9216\n",
       "  9409\n",
       "  9604\n",
       "  9801\n",
       " 10000"
      ]
     },
     "execution_count": 48,
     "metadata": {},
     "output_type": "execute_result"
    }
   ],
   "source": [
    "squres_arr=[i^2 for i=1:100]"
   ]
  },
  {
   "cell_type": "code",
   "execution_count": 49,
   "id": "ed76078d",
   "metadata": {},
   "outputs": [
    {
     "name": "stdout",
     "output_type": "stream",
     "text": [
      "not sheutni\n"
     ]
    }
   ],
   "source": [
    "N=13\n",
    "if (N%2==0)\n",
    "    println(N)\n",
    "else\n",
    "    println(\"not sheutni\")\n",
    "end"
   ]
  },
  {
   "cell_type": "code",
   "execution_count": 50,
   "id": "280e582c",
   "metadata": {},
   "outputs": [
    {
     "name": "stdout",
     "output_type": "stream",
     "text": [
      "not sheutni\n"
     ]
    }
   ],
   "source": [
    "(N%2==0) ? println(N) : println(\"not sheutni\")"
   ]
  },
  {
   "cell_type": "code",
   "execution_count": 51,
   "id": "cf2561aa",
   "metadata": {},
   "outputs": [
    {
     "data": {
      "text/plain": [
       "add_one (generic function with 1 method)"
      ]
     },
     "execution_count": 51,
     "metadata": {},
     "output_type": "execute_result"
    }
   ],
   "source": [
    "add_one(x) = x+1"
   ]
  },
  {
   "cell_type": "code",
   "execution_count": 52,
   "id": "5b0ab404",
   "metadata": {},
   "outputs": [
    {
     "data": {
      "text/plain": [
       "5×5 Matrix{Int64}:\n",
       " 1  1  1  1  1\n",
       " 1  1  1  1  1\n",
       " 1  1  1  1  1\n",
       " 1  1  1  1  1\n",
       " 1  1  1  1  1"
      ]
     },
     "execution_count": 52,
     "metadata": {},
     "output_type": "execute_result"
    }
   ],
   "source": [
    "m,n =5,5\n",
    "A=fill(0,(m,n))\n",
    "map(x->add_one(x),A)"
   ]
  },
  {
   "cell_type": "code",
   "execution_count": 53,
   "id": "bf681150",
   "metadata": {},
   "outputs": [
    {
     "data": {
      "text/plain": [
       "3×3 Matrix{Int64}:\n",
       "  1   1   3\n",
       "  5   2   6\n",
       " -2  -1  -3"
      ]
     },
     "execution_count": 53,
     "metadata": {},
     "output_type": "execute_result"
    }
   ],
   "source": [
    "A=[1 1 3; 5 2 6; -2 -1 -3]"
   ]
  },
  {
   "cell_type": "code",
   "execution_count": 54,
   "id": "794e3de1",
   "metadata": {},
   "outputs": [
    {
     "data": {
      "text/plain": [
       "3×3 Matrix{Int64}:\n",
       " 0  0  0\n",
       " 0  0  0\n",
       " 0  0  0"
      ]
     },
     "execution_count": 54,
     "metadata": {},
     "output_type": "execute_result"
    }
   ],
   "source": [
    "A^3"
   ]
  },
  {
   "cell_type": "code",
   "execution_count": 55,
   "id": "8c797b71",
   "metadata": {},
   "outputs": [
    {
     "data": {
      "text/plain": [
       "3×3 Matrix{Int64}:\n",
       "  1   1   2\n",
       "  5   2   7\n",
       " -2  -1  -3"
      ]
     },
     "execution_count": 55,
     "metadata": {},
     "output_type": "execute_result"
    }
   ],
   "source": [
    "A[:,3]=A[:,1]+A[:,2]\n",
    "A"
   ]
  },
  {
   "cell_type": "code",
   "execution_count": 56,
   "id": "ea5f9d09",
   "metadata": {},
   "outputs": [
    {
     "data": {
      "text/plain": [
       "15×3 Matrix{Int64}:\n",
       " 10  -10  10\n",
       " 10  -10  10\n",
       " 10  -10  10\n",
       " 10  -10  10\n",
       " 10  -10  10\n",
       " 10  -10  10\n",
       " 10  -10  10\n",
       " 10  -10  10\n",
       " 10  -10  10\n",
       " 10  -10  10\n",
       " 10  -10  10\n",
       " 10  -10  10\n",
       " 10  -10  10\n",
       " 10  -10  10\n",
       " 10  -10  10"
      ]
     },
     "execution_count": 56,
     "metadata": {},
     "output_type": "execute_result"
    }
   ],
   "source": [
    "B=repeat([10 -10 10],15)"
   ]
  },
  {
   "cell_type": "code",
   "execution_count": 58,
   "id": "6403148f",
   "metadata": {},
   "outputs": [
    {
     "data": {
      "text/plain": [
       "3×3 Matrix{Int64}:\n",
       "  1500  -1500   1500\n",
       " -1500   1500  -1500\n",
       "  1500  -1500   1500"
      ]
     },
     "execution_count": 58,
     "metadata": {},
     "output_type": "execute_result"
    }
   ],
   "source": [
    "C= B' *B"
   ]
  },
  {
   "cell_type": "code",
   "execution_count": 60,
   "id": "cb305076",
   "metadata": {},
   "outputs": [],
   "source": [
    "Z=zeros(6,6)\n",
    "E=ones(6,6)\n",
    "Z1=zeros(6,6)\n",
    "Z2=zeros(6,6)\n",
    "Z3=zeros(6,6)\n",
    "Z4=zeros(6,6)\n",
    "for i in 1:6\n",
    "    for j in 1:6\n",
    "        if(i==j-1) || (i==j+1)\n",
    "            Z1[i,j]=1\n",
    "        end\n",
    "        if(i==j) || (i==j+2) || (i==j-2)\n",
    "            Z2[i,j]=1\n",
    "        end\n",
    "        if(i==5-j) || (i==7-j) || (i==9-j)\n",
    "            Z3[i,j]=1\n",
    "        end\n",
    "        if(i+j)%2==0\n",
    "            Z4[i,j]=1\n",
    "        end\n",
    "    end\n",
    "end"
   ]
  },
  {
   "cell_type": "code",
   "execution_count": 61,
   "id": "afc407aa",
   "metadata": {},
   "outputs": [
    {
     "data": {
      "text/plain": [
       "6×6 Matrix{Float64}:\n",
       " 0.0  1.0  0.0  0.0  0.0  0.0\n",
       " 1.0  0.0  1.0  0.0  0.0  0.0\n",
       " 0.0  1.0  0.0  1.0  0.0  0.0\n",
       " 0.0  0.0  1.0  0.0  1.0  0.0\n",
       " 0.0  0.0  0.0  1.0  0.0  1.0\n",
       " 0.0  0.0  0.0  0.0  1.0  0.0"
      ]
     },
     "execution_count": 61,
     "metadata": {},
     "output_type": "execute_result"
    }
   ],
   "source": [
    "Z1"
   ]
  },
  {
   "cell_type": "code",
   "execution_count": 62,
   "id": "73e8551c",
   "metadata": {},
   "outputs": [
    {
     "data": {
      "text/plain": [
       "6×6 Matrix{Float64}:\n",
       " 1.0  0.0  1.0  0.0  0.0  0.0\n",
       " 0.0  1.0  0.0  1.0  0.0  0.0\n",
       " 1.0  0.0  1.0  0.0  1.0  0.0\n",
       " 0.0  1.0  0.0  1.0  0.0  1.0\n",
       " 0.0  0.0  1.0  0.0  1.0  0.0\n",
       " 0.0  0.0  0.0  1.0  0.0  1.0"
      ]
     },
     "execution_count": 62,
     "metadata": {},
     "output_type": "execute_result"
    }
   ],
   "source": [
    "Z2"
   ]
  },
  {
   "cell_type": "code",
   "execution_count": 63,
   "id": "15c64dde",
   "metadata": {},
   "outputs": [
    {
     "data": {
      "text/plain": [
       "6×6 Matrix{Float64}:\n",
       " 0.0  0.0  0.0  1.0  0.0  1.0\n",
       " 0.0  0.0  1.0  0.0  1.0  0.0\n",
       " 0.0  1.0  0.0  1.0  0.0  1.0\n",
       " 1.0  0.0  1.0  0.0  1.0  0.0\n",
       " 0.0  1.0  0.0  1.0  0.0  0.0\n",
       " 1.0  0.0  1.0  0.0  0.0  0.0"
      ]
     },
     "execution_count": 63,
     "metadata": {},
     "output_type": "execute_result"
    }
   ],
   "source": [
    "Z3"
   ]
  },
  {
   "cell_type": "code",
   "execution_count": 64,
   "id": "2bd0f298",
   "metadata": {},
   "outputs": [
    {
     "data": {
      "text/plain": [
       "6×6 Matrix{Float64}:\n",
       " 1.0  0.0  1.0  0.0  1.0  0.0\n",
       " 0.0  1.0  0.0  1.0  0.0  1.0\n",
       " 1.0  0.0  1.0  0.0  1.0  0.0\n",
       " 0.0  1.0  0.0  1.0  0.0  1.0\n",
       " 1.0  0.0  1.0  0.0  1.0  0.0\n",
       " 0.0  1.0  0.0  1.0  0.0  1.0"
      ]
     },
     "execution_count": 64,
     "metadata": {},
     "output_type": "execute_result"
    }
   ],
   "source": [
    "Z4"
   ]
  },
  {
   "cell_type": "code",
   "execution_count": 65,
   "id": "e5906755",
   "metadata": {},
   "outputs": [
    {
     "data": {
      "text/plain": [
       "outer (generic function with 1 method)"
      ]
     },
     "execution_count": 65,
     "metadata": {},
     "output_type": "execute_result"
    }
   ],
   "source": [
    "function outer(X, Y, op)\n",
    "    if (ndims(X)==1)\n",
    "        X=reshape(X, (size(X,1), size(X,2)))\n",
    "    end\n",
    "    if (ndims(Y)==1)\n",
    "        Y=reshape(Y, (size(Y,1), size(Y,2)))\n",
    "    end\n",
    "    Z=zeros(size(X)[1], size(Y)[2])\n",
    "    for i in 1:size(X)[1], j in 1:size(Y)[2], k in size(X)[2]\n",
    "        Z[i, j] = op(X[i,k], Y[k,j])\n",
    "    end\n",
    "    return Z\n",
    "end"
   ]
  },
  {
   "cell_type": "code",
   "execution_count": 66,
   "id": "5f373153",
   "metadata": {},
   "outputs": [
    {
     "data": {
      "text/plain": [
       "5-element Vector{Int64}:\n",
       " 0\n",
       " 1\n",
       " 2\n",
       " 3\n",
       " 4"
      ]
     },
     "execution_count": 66,
     "metadata": {},
     "output_type": "execute_result"
    }
   ],
   "source": [
    "M1=[i for i in 0:4]"
   ]
  },
  {
   "cell_type": "code",
   "execution_count": 67,
   "id": "efadbc6c",
   "metadata": {},
   "outputs": [
    {
     "data": {
      "text/plain": [
       "5×5 Matrix{Float64}:\n",
       " 0.0  1.0  2.0  3.0  4.0\n",
       " 1.0  2.0  3.0  4.0  5.0\n",
       " 2.0  3.0  4.0  5.0  6.0\n",
       " 3.0  4.0  5.0  6.0  7.0\n",
       " 4.0  5.0  6.0  7.0  8.0"
      ]
     },
     "execution_count": 67,
     "metadata": {},
     "output_type": "execute_result"
    }
   ],
   "source": [
    "outer(M1, M1', +)"
   ]
  },
  {
   "cell_type": "code",
   "execution_count": 68,
   "id": "4659865c",
   "metadata": {},
   "outputs": [
    {
     "data": {
      "text/plain": [
       "5×5 Matrix{Float64}:\n",
       " 0.0   0.0   0.0    0.0     0.0\n",
       " 1.0   1.0   1.0    1.0     1.0\n",
       " 2.0   4.0   8.0   16.0    32.0\n",
       " 3.0   9.0  27.0   81.0   243.0\n",
       " 4.0  16.0  64.0  256.0  1024.0"
      ]
     },
     "execution_count": 68,
     "metadata": {},
     "output_type": "execute_result"
    }
   ],
   "source": [
    "M2=[i for i in 1:5]\n",
    "outer(M1, M2', ^)"
   ]
  },
  {
   "cell_type": "code",
   "execution_count": 69,
   "id": "c6a99053",
   "metadata": {},
   "outputs": [
    {
     "data": {
      "text/plain": [
       "5×5 Matrix{Float64}:\n",
       " 0.0  1.0  2.0  3.0  4.0\n",
       " 1.0  2.0  3.0  4.0  0.0\n",
       " 2.0  3.0  4.0  0.0  1.0\n",
       " 3.0  4.0  0.0  1.0  2.0\n",
       " 4.0  0.0  1.0  2.0  3.0"
      ]
     },
     "execution_count": 69,
     "metadata": {},
     "output_type": "execute_result"
    }
   ],
   "source": [
    "outer(M1, M1', +).%5"
   ]
  },
  {
   "cell_type": "code",
   "execution_count": 70,
   "id": "4edd3f2f",
   "metadata": {},
   "outputs": [
    {
     "data": {
      "text/plain": [
       "10×10 Matrix{Float64}:\n",
       " 0.0  1.0  2.0  3.0  4.0  5.0  6.0  7.0  8.0  9.0\n",
       " 1.0  2.0  3.0  4.0  5.0  6.0  7.0  8.0  9.0  0.0\n",
       " 2.0  3.0  4.0  5.0  6.0  7.0  8.0  9.0  0.0  1.0\n",
       " 3.0  4.0  5.0  6.0  7.0  8.0  9.0  0.0  1.0  2.0\n",
       " 4.0  5.0  6.0  7.0  8.0  9.0  0.0  1.0  2.0  3.0\n",
       " 5.0  6.0  7.0  8.0  9.0  0.0  1.0  2.0  3.0  4.0\n",
       " 6.0  7.0  8.0  9.0  0.0  1.0  2.0  3.0  4.0  5.0\n",
       " 7.0  8.0  9.0  0.0  1.0  2.0  3.0  4.0  5.0  6.0\n",
       " 8.0  9.0  0.0  1.0  2.0  3.0  4.0  5.0  6.0  7.0\n",
       " 9.0  0.0  1.0  2.0  3.0  4.0  5.0  6.0  7.0  8.0"
      ]
     },
     "execution_count": 70,
     "metadata": {},
     "output_type": "execute_result"
    }
   ],
   "source": [
    "outer([i for i in 0:9], [i for i in 0:9]', +).%10"
   ]
  },
  {
   "cell_type": "code",
   "execution_count": 71,
   "id": "a6610dbe",
   "metadata": {},
   "outputs": [
    {
     "data": {
      "text/plain": [
       "9×9 Matrix{Float64}:\n",
       " 0.0  8.0  7.0  6.0  5.0  4.0  3.0  2.0  1.0\n",
       " 1.0  0.0  8.0  7.0  6.0  5.0  4.0  3.0  2.0\n",
       " 2.0  1.0  0.0  8.0  7.0  6.0  5.0  4.0  3.0\n",
       " 3.0  2.0  1.0  0.0  8.0  7.0  6.0  5.0  4.0\n",
       " 4.0  3.0  2.0  1.0  0.0  8.0  7.0  6.0  5.0\n",
       " 5.0  4.0  3.0  2.0  1.0  0.0  8.0  7.0  6.0\n",
       " 6.0  5.0  4.0  3.0  2.0  1.0  0.0  8.0  7.0\n",
       " 7.0  6.0  5.0  4.0  3.0  2.0  1.0  0.0  8.0\n",
       " 8.0  7.0  6.0  5.0  4.0  3.0  2.0  1.0  0.0"
      ]
     },
     "execution_count": 71,
     "metadata": {},
     "output_type": "execute_result"
    }
   ],
   "source": [
    "outer([i for i in 0:8], [i for i in -9:-1]', -).%9"
   ]
  },
  {
   "cell_type": "code",
   "execution_count": 72,
   "id": "d93bda30",
   "metadata": {},
   "outputs": [
    {
     "data": {
      "text/plain": [
       "5-element Vector{Float64}:\n",
       " -1.9999999999999996\n",
       "  3.0\n",
       "  5.0\n",
       "  2.0\n",
       " -4.0"
      ]
     },
     "execution_count": 72,
     "metadata": {},
     "output_type": "execute_result"
    }
   ],
   "source": [
    "#решить систему\n",
    "A=outer([i for i in 1:5], [i for i in 1:5]',-)\n",
    "A=abs.(A)\n",
    "A=A.+1\n",
    "y=[7, -1, -3, 5, 17]\n",
    "x=inv(A)*y"
   ]
  },
  {
   "cell_type": "code",
   "execution_count": 73,
   "id": "ac4fc338",
   "metadata": {},
   "outputs": [
    {
     "data": {
      "text/plain": [
       "6×10 Matrix{Int64}:\n",
       " 4  8   2  2  1   7  7  2  8  7\n",
       " 8  1  10  5  9   2  7  3  9  1\n",
       " 1  7   5  6  9   8  3  6  3  8\n",
       " 1  9   9  2  5   5  3  8  9  7\n",
       " 3  6   7  4  4  10  7  3  9  2\n",
       " 9  5  10  8  1   8  9  3  1  7"
      ]
     },
     "execution_count": 73,
     "metadata": {},
     "output_type": "execute_result"
    }
   ],
   "source": [
    "M=rand(1:10, 6, 10)"
   ]
  },
  {
   "cell_type": "code",
   "execution_count": 77,
   "id": "93814e14",
   "metadata": {},
   "outputs": [
    {
     "name": "stdout",
     "output_type": "stream",
     "text": [
      "The line 1 has 5 elements > 4\n",
      "The line 2 has 6 elements > 4\n",
      "The line 3 has 7 elements > 4\n",
      "The line 4 has 7 elements > 4\n",
      "The line 5 has 5 elements > 4\n",
      "The line 6 has 7 elements > 4\n"
     ]
    }
   ],
   "source": [
    "N=4\n",
    "for i in 1:6\n",
    "    c=0\n",
    "    for j in 1:10\n",
    "        if M[i,j]>N\n",
    "            c=c+1\n",
    "        end\n",
    "    end\n",
    "    println(\"The line \", i , \" has \", c, \" elements > \",N)\n",
    "end"
   ]
  },
  {
   "cell_type": "code",
   "execution_count": 80,
   "id": "8ce82121",
   "metadata": {},
   "outputs": [
    {
     "name": "stdout",
     "output_type": "stream",
     "text": [
      "The line 4 has elements of 5 Equal 2 to it\n"
     ]
    }
   ],
   "source": [
    "N=5\n",
    "for i in 1:6\n",
    "    c=0\n",
    "    for j in 1:10\n",
    "        if M[i,j]==N\n",
    "            c=c+1\n",
    "        end\n",
    "    end\n",
    "    if c==2\n",
    "        println(\"The line \", i , \" has elements of \", N, \" Equal 2 to it\")\n",
    "    end\n",
    "end"
   ]
  },
  {
   "cell_type": "code",
   "execution_count": 82,
   "id": "4b015aea",
   "metadata": {},
   "outputs": [
    {
     "name": "stdout",
     "output_type": "stream",
     "text": [
      "Sum of columns1 2 = 62\n",
      "Sum of columns1 3 = 69\n",
      "Sum of columns1 6 = 66\n",
      "Sum of columns1 7 = 62\n",
      "Sum of columns1 9 = 65\n",
      "Sum of columns2 3 = 79\n",
      "Sum of columns2 4 = 63\n",
      "Sum of columns2 5 = 65\n",
      "Sum of columns2 6 = 76\n",
      "Sum of columns2 7 = 72\n",
      "Sum of columns2 8 = 61\n",
      "Sum of columns2 9 = 75\n",
      "Sum of columns2 10 = 68\n",
      "Sum of columns3 4 = 70\n",
      "Sum of columns3 5 = 72\n",
      "Sum of columns3 6 = 83\n",
      "Sum of columns3 7 = 79\n",
      "Sum of columns3 8 = 68\n",
      "Sum of columns3 9 = 82\n",
      "Sum of columns3 10 = 75\n",
      "Sum of columns4 6 = 67\n",
      "Sum of columns4 7 = 63\n",
      "Sum of columns4 9 = 66\n",
      "Sum of columns5 6 = 69\n",
      "Sum of columns5 7 = 65\n",
      "Sum of columns5 9 = 68\n",
      "Sum of columns5 10 = 61\n",
      "Sum of columns6 7 = 76\n",
      "Sum of columns6 8 = 65\n",
      "Sum of columns6 9 = 79\n",
      "Sum of columns6 10 = 72\n",
      "Sum of columns7 8 = 61\n",
      "Sum of columns7 9 = 75\n",
      "Sum of columns7 10 = 68\n",
      "Sum of columns8 9 = 64\n",
      "Sum of columns9 10 = 71\n"
     ]
    }
   ],
   "source": [
    "K=60\n",
    "sum=0\n",
    "for j in 1:10\n",
    "    for k in (j+1):10\n",
    "        for i in 1:6\n",
    "            sum=sum+M[i,j]+M[i,k]\n",
    "        end\n",
    "        if sum>K\n",
    "            println(\"Sum of columns\", j, \" \", k, \" = \",sum)\n",
    "        end\n",
    "        sum=0\n",
    "    end\n",
    "end"
   ]
  },
  {
   "cell_type": "code",
   "execution_count": 83,
   "id": "af19c728",
   "metadata": {},
   "outputs": [
    {
     "data": {
      "text/plain": [
       "538845.0055555553"
      ]
     },
     "execution_count": 83,
     "metadata": {},
     "output_type": "execute_result"
    }
   ],
   "source": [
    "Arr=[(i^4)/(4+j) for j in 1:5, i in 1:20]\n",
    "sum=0\n",
    "for i in 1:5\n",
    "    for j in 1:20\n",
    "        sum=sum+Arr[i,j]\n",
    "    end\n",
    "end\n",
    "sum"
   ]
  },
  {
   "cell_type": "code",
   "execution_count": 84,
   "id": "3d3244d8",
   "metadata": {},
   "outputs": [
    {
     "data": {
      "text/plain": [
       "89912.02146097131"
      ]
     },
     "execution_count": 84,
     "metadata": {},
     "output_type": "execute_result"
    }
   ],
   "source": [
    "Arr=[(i^4)/(3+i*j) for j in 1:5, i in 1:20]\n",
    "sum = 0 \n",
    "for i in 1:5\n",
    "    for j in 1:20\n",
    "        sum=sum+Arr[i,j]\n",
    "    end\n",
    "end\n",
    "sum"
   ]
  },
  {
   "cell_type": "code",
   "execution_count": null,
   "id": "c9f3317a",
   "metadata": {},
   "outputs": [],
   "source": []
  }
 ],
 "metadata": {
  "kernelspec": {
   "display_name": "Julia 1.9.3",
   "language": "julia",
   "name": "julia-1.9"
  },
  "language_info": {
   "file_extension": ".jl",
   "mimetype": "application/julia",
   "name": "julia",
   "version": "1.9.3"
  }
 },
 "nbformat": 4,
 "nbformat_minor": 5
}
